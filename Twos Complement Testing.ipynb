{
 "cells": [
  {
   "cell_type": "code",
   "execution_count": 1,
   "metadata": {},
   "outputs": [],
   "source": [
    "# %matplotlib inline\n",
    "# Importing standard Qiskit libraries and configuring account\n",
    "from qiskit import QuantumCircuit, QuantumRegister, ClassicalRegister, execute, Aer, IBMQ\n",
    "from qiskit.compiler import transpile, assemble\n",
    "from qiskit.tools.jupyter import *\n",
    "from qiskit.visualization import *\n",
    "from datetime import datetime\n",
    "# import math\n",
    "# Loading your IBM Q account(s)\n",
    "# IBMQ.load_account()"
   ]
  },
  {
   "cell_type": "code",
   "execution_count": 2,
   "metadata": {},
   "outputs": [],
   "source": [
    "backend = Aer.get_backend(\"qasm_simulator\")"
   ]
  },
  {
   "cell_type": "code",
   "execution_count": 3,
   "metadata": {},
   "outputs": [],
   "source": [
    "# global n_reg\n",
    "# global m_reg\n",
    "# global scratch_a\n",
    "# global class_reg\n",
    "# global backend\n",
    "# global qc\n",
    "# global test_timestamp\n",
    "\n",
    "# def before_tests():\n",
    "global n_reg # = QuantumRegister(6, 'n')\n",
    "global scratch_a\n",
    "global class_reg # = ClassicalRegister(6, 'y')\n",
    "\n",
    "global qc # = QuantumCircuit(n_reg, m_reg, scratch_a, class_reg)\n",
    "\n",
    "test_timestamp = datetime.now()\n",
    "\n",
    "from ArithmaticFunctions import *"
   ]
  },
  {
   "cell_type": "code",
   "execution_count": 4,
   "metadata": {},
   "outputs": [],
   "source": [
    "def setup_each_addition():\n",
    "    n_reg = QuantumRegister(6, 'n')\n",
    "    m_reg = QuantumRegister(6, 'm')\n",
    "    scratch_a = QuantumRegister(6, 'sca')\n",
    "    class_reg = ClassicalRegister(6, 'y')\n",
    "    qc = QuantumCircuit(n_reg, m_reg, scratch_a, class_reg)\n",
    "    \n",
    "    return {'n_reg': n_reg, 'm_reg': m_reg, 'scratch_a': scratch_a, 'class_reg': class_reg, 'qc': qc }"
   ]
  },
  {
   "cell_type": "code",
   "execution_count": 5,
   "metadata": {},
   "outputs": [],
   "source": [
    "def get_results_of_last_test():\n",
    "#     for bit in range(len(n_reg)):\n",
    "#         qc.measure(n_reg[bit], class_reg[bit])\n",
    "\n",
    "    simulate = execute(qc, backend=backend, shots=1024).result()\n",
    "    return simulate.get_counts()\n",
    "\n",
    "def verify_results(expected):\n",
    "    \n",
    "    if [expected] == list(results.keys()):\n",
    "        print(\"PASSING - \", test_timestamp)\n",
    "    else:\n",
    "        print(\"FAILING - \", test_timestamp)\n",
    "        print(f'Got - {results}')\n",
    "    "
   ]
  },
  {
   "cell_type": "code",
   "execution_count": null,
   "metadata": {},
   "outputs": [],
   "source": []
  },
  {
   "cell_type": "code",
   "execution_count": 6,
   "metadata": {},
   "outputs": [
    {
     "name": "stdout",
     "output_type": "stream",
     "text": [
      "PASSING -  2019-08-08 18:14:48.096032\n"
     ]
    }
   ],
   "source": [
    "tc = setup_each_addition()\n",
    "qc = tc['qc']\n",
    "\n",
    "twos_complement(tc['qc'], tc['n_reg'], tc['scratch_a'])\n",
    "qc.measure(tc['n_reg'], tc['class_reg'])\n",
    "results = get_results_of_last_test()\n",
    "verify_results('000000')"
   ]
  },
  {
   "cell_type": "code",
   "execution_count": 7,
   "metadata": {},
   "outputs": [
    {
     "name": "stdout",
     "output_type": "stream",
     "text": [
      "PASSING -  2019-08-08 18:14:48.096032\n"
     ]
    }
   ],
   "source": [
    "tc = setup_each_addition()\n",
    "qc = tc['qc']\n",
    "\n",
    "qc.x(tc['n_reg'][0])\n",
    "\n",
    "twos_complement(tc['qc'], tc['n_reg'], tc['scratch_a'])\n",
    "qc.measure(tc['n_reg'], tc['class_reg'])\n",
    "results = get_results_of_last_test()\n",
    "verify_results('111111')"
   ]
  },
  {
   "cell_type": "code",
   "execution_count": 8,
   "metadata": {},
   "outputs": [
    {
     "name": "stdout",
     "output_type": "stream",
     "text": [
      "PASSING -  2019-08-08 18:14:48.096032\n"
     ]
    }
   ],
   "source": [
    "tc = setup_each_addition()\n",
    "qc = tc['qc']\n",
    "\n",
    "qc.x(tc['n_reg'][2])\n",
    "\n",
    "twos_complement(tc['qc'], tc['n_reg'], tc['scratch_a'])\n",
    "qc.measure(tc['n_reg'], tc['class_reg'])\n",
    "results = get_results_of_last_test()\n",
    "verify_results('111100')"
   ]
  },
  {
   "cell_type": "code",
   "execution_count": 9,
   "metadata": {},
   "outputs": [
    {
     "name": "stdout",
     "output_type": "stream",
     "text": [
      "PASSING -  2019-08-08 18:14:48.096032\n"
     ]
    }
   ],
   "source": [
    "tc = setup_each_addition()\n",
    "qc = tc['qc']\n",
    "\n",
    "qc.x(tc['n_reg'][2])\n",
    "qc.x(tc['n_reg'][3])\n",
    "qc.x(tc['n_reg'][4])\n",
    "qc.x(tc['n_reg'][5])\n",
    "\n",
    "twos_complement(tc['qc'], tc['n_reg'], tc['scratch_a'])\n",
    "qc.measure(tc['n_reg'], tc['class_reg'])\n",
    "results = get_results_of_last_test()\n",
    "verify_results('000100')"
   ]
  },
  {
   "cell_type": "code",
   "execution_count": 10,
   "metadata": {},
   "outputs": [
    {
     "name": "stdout",
     "output_type": "stream",
     "text": [
      "PASSING -  2019-08-08 18:14:48.096032\n"
     ]
    }
   ],
   "source": [
    "tc = setup_each_addition()\n",
    "qc = tc['qc']\n",
    "\n",
    "twos_complement(tc['qc'], tc['n_reg'], tc['scratch_a'])\n",
    "qc.measure(tc['n_reg'], tc['class_reg'])\n",
    "results = get_results_of_last_test()\n",
    "verify_results('000000')"
   ]
  },
  {
   "cell_type": "code",
   "execution_count": 11,
   "metadata": {},
   "outputs": [
    {
     "name": "stdout",
     "output_type": "stream",
     "text": [
      "PASSING -  2019-08-08 18:14:48.096032\n"
     ]
    }
   ],
   "source": [
    "tc = setup_each_addition()\n",
    "qc = tc['qc']\n",
    "\n",
    "qc.x(tc['n_reg'][0])\n",
    "qc.x(tc['n_reg'][1])\n",
    "qc.x(tc['n_reg'][2])\n",
    "qc.x(tc['n_reg'][3])\n",
    "qc.x(tc['n_reg'][4])\n",
    "\n",
    "twos_complement(tc['qc'], tc['n_reg'], tc['scratch_a'])\n",
    "qc.measure(tc['n_reg'], tc['class_reg'])\n",
    "results = get_results_of_last_test()\n",
    "verify_results('100001')"
   ]
  },
  {
   "cell_type": "code",
   "execution_count": 12,
   "metadata": {},
   "outputs": [
    {
     "name": "stdout",
     "output_type": "stream",
     "text": [
      "FAILING -  2019-08-08 18:14:48.096032\n",
      "Got - {'000000': 1024}\n"
     ]
    }
   ],
   "source": [
    "tc = setup_each_addition()\n",
    "qc = tc['qc']\n",
    "\n",
    "twos_complement(tc['qc'], tc['n_reg'], tc['scratch_a'])\n",
    "qc.measure(tc['n_reg'], tc['class_reg'])\n",
    "results = get_results_of_last_test()\n",
    "verify_results('100001')"
   ]
  },
  {
   "cell_type": "code",
   "execution_count": 6,
   "metadata": {},
   "outputs": [
    {
     "name": "stdout",
     "output_type": "stream",
     "text": [
      "FAILING -  2019-08-08 18:34:41.190389\n",
      "Got - {'111111': 1024}\n"
     ]
    }
   ],
   "source": [
    "tc = setup_each_addition()\n",
    "qc = tc['qc']\n",
    "qc.x(tc['m_reg'][0])\n",
    "qc.barrier()\n",
    "\n",
    "twos_complement(qc, tc['n_reg'], tc['scratch_a'])\n",
    "add_to_b_in_place(qc, tc['m_reg'], tc['n_reg'], tc['scratch_a'])\n",
    "twos_complement(qc, tc['n_reg'], tc['scratch_a'])\n",
    "qc.measure(tc['n_reg'], tc['class_reg'])\n",
    "\n",
    "results = get_results_of_last_test()\n",
    "verify_results('111111')"
   ]
  },
  {
   "cell_type": "code",
   "execution_count": 7,
   "metadata": {},
   "outputs": [
    {
     "name": "stdout",
     "output_type": "stream",
     "text": [
      "FAILING -  2019-08-08 18:34:41.190389\n",
      "Got - {'000001': 1024}\n"
     ]
    }
   ],
   "source": [
    "tc = setup_each_addition()\n",
    "qc = tc['qc']\n",
    "qc.x(tc['m_reg'][0])\n",
    "qc.x(tc['m_reg'][1])\n",
    "qc.x(tc['m_reg'][2])\n",
    "qc.x(tc['m_reg'][3])\n",
    "qc.x(tc['m_reg'][4])\n",
    "qc.x(tc['m_reg'][5])\n",
    "\n",
    "qc.barrier()\n",
    "\n",
    "twos_complement(qc, tc['n_reg'], tc['scratch_a'])\n",
    "add_to_b_in_place(qc, tc['m_reg'], tc['n_reg'], tc['scratch_a'])\n",
    "twos_complement(qc, tc['n_reg'], tc['scratch_a'])\n",
    "qc.measure(tc['n_reg'], tc['class_reg'])\n",
    "\n",
    "results = get_results_of_last_test()\n",
    "verify_results('111111')"
   ]
  },
  {
   "cell_type": "code",
   "execution_count": null,
   "metadata": {},
   "outputs": [],
   "source": []
  }
 ],
 "metadata": {
  "kernelspec": {
   "display_name": "Python 3",
   "language": "python",
   "name": "python3"
  },
  "language_info": {
   "codemirror_mode": {
    "name": "ipython",
    "version": 3
   },
   "file_extension": ".py",
   "mimetype": "text/x-python",
   "name": "python",
   "nbconvert_exporter": "python",
   "pygments_lexer": "ipython3",
   "version": "3.6.7"
  }
 },
 "nbformat": 4,
 "nbformat_minor": 2
}
