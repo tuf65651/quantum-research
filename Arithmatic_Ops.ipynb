{
 "cells": [
  {
   "cell_type": "code",
   "execution_count": 1,
   "metadata": {},
   "outputs": [],
   "source": [
    "# %matplotlib inline\n",
    "# Importing standard Qiskit libraries and configuring account\n",
    "from qiskit import QuantumCircuit, QuantumRegister, ClassicalRegister, execute, Aer, IBMQ\n",
    "from qiskit.compiler import transpile, assemble\n",
    "from qiskit.tools.jupyter import *\n",
    "from qiskit.visualization import *\n",
    "# import math\n",
    "# Loading your IBM Q account(s)\n",
    "# IBMQ.load_account()"
   ]
  },
  {
   "cell_type": "code",
   "execution_count": 2,
   "metadata": {},
   "outputs": [],
   "source": [
    "backend = Aer.get_backend(\"qasm_simulator\")"
   ]
  },
  {
   "cell_type": "code",
   "execution_count": 7,
   "metadata": {},
   "outputs": [],
   "source": [
    "from ArithmaticFunctions import *"
   ]
  },
  {
   "cell_type": "code",
   "execution_count": null,
   "metadata": {},
   "outputs": [],
   "source": [
    "def convolute_shift_func(circuit, control_reg, acc_reg, power):\n",
    "    \"\"\"Implement bit shift.\n",
    "    @param circuit: QuantumCircuit containing operands\n",
    "    @param control_reg: QuantumRegister containing qubit that defines power (all operations conditional on this)\n",
    "    @param acc_reg: QuantumRegister containing integer to shift\n",
    "    @param power: int number of places to shift (if control_reg[power])\"\"\"\n",
    "    ## NOTE: Power is the number of places to shift. Power 1 is controlled by\n",
    "    ## control register's 2nd bit, which is control_reg[1]\n",
    "    ## and refers to shift of 2^1, or shift one place\n",
    "    \n",
    "    # Flip all qubits in accumulator to allow ripple carry\n",
    "#     for qubit in range(len(acc_reg)):\n",
    "#         circuit.x(acc_reg[qubit])\n",
    "        \n",
    "    for target_bit in range(len(acc_reg) - 1):\n",
    "        # shift bit by correct number of places\n",
    "#         circuit.ccx(control_reg[power], acc_reg[target_bit], acc_reg[target_bit + power])\n",
    "\n",
    "        # Circuit will flip target bit before evaluating. Preempt that first flip.\n",
    "        circuit.cx(control_reg[power], acc_reg[target_bit])\n",
    "        # Flip next bit if carry occurs\n",
    "        for flipped_bit in range(target_bit, len(acc_reg) - 1):\n",
    "            ## Carry occurs if target now 0 (if flip makes it 1).\n",
    "            circuit.cx(control_reg[power], acc_reg[flipped_bit])\n",
    "            circuit.ccx(control_reg[power], acc_reg[flipped_bit], acc_reg[flipped_bit + 1])\n",
    "            circuit.cx(control_reg[power], acc_reg[flipped_bit])\n",
    "            # Flip bit that's being shifted\n",
    "            # circuit.cx(control_reg[power], acc_reg[target_bit])"
   ]
  },
  {
   "cell_type": "code",
   "execution_count": null,
   "metadata": {},
   "outputs": [],
   "source": [
    "def ripple_carry_bits(circuit, control_bit, acc_reg, scratch_reg, start_shifting_at):\n",
    "    \"\"\"Continue a carry operation\n",
    "    This assumes that whatever simple op triggered the ripple has already occurred.\n",
    "    For example, if the ripple started with addition of 1 to the least significant bit,\n",
    "    manually flip and then call function.\n",
    "    \n",
    "    @param circuit: QuantumCircuit containing operands\n",
    "    @param control_bit: single bit controling whether op begins.\n",
    "    @param acc_reg: QuantumRegister containing integer to shift\n",
    "    @param scratch_reg: Quantum registered in initial |0..0> state used to store carry result of each simple addition.\n",
    "    @param start_shifting_at: index in acc_reg of bit to shift\n",
    "    \n",
    "    TESTING - Passed minimal test cases July 18 at 8:24am Pacific Time\n",
    "    \"\"\"\n",
    "    \n",
    "    \"\"\"\n",
    "    NOTE: Power is the number of places to shift. Power 1 is controlled by\n",
    "    control register's 2nd bit, which is control_reg[1]\n",
    "    and refers to shift of 2^1, or shift one place\n",
    "    \"\"\"\n",
    "    \n",
    "    circuit.ccx(control_bit, acc_reg[start_shifting_at], scratch_reg[start_shifting_at])\n",
    "    circuit.cx(control_bit, acc_reg[start_shifting_at])\n",
    "    \n",
    "    # After flipping target, state |0> means we should have carried... =>\n",
    "    # before flipping target, state |1> means we should carry.\n",
    "    \n",
    "    # Flip each bit, if it's 1, carry to the next bit, and flip it back.\n",
    "    for bit in range(start_shifting_at + 1, len(acc_reg) - 1):\n",
    "        circuit.ccx(acc_reg[bit], scratch_reg[bit - 1], scratch_reg[bit])\n",
    "        circuit.cx(scratch_reg[bit - 1], acc_reg[bit])\n",
    "        \n",
    "    "
   ]
  },
  {
   "cell_type": "code",
   "execution_count": 2,
   "metadata": {},
   "outputs": [],
   "source": [
    "def c_ripple_subtract(circuit, control_bit, min_reg, scratch_reg, start_shifting_at):\n",
    "    \"\"\"Continue a subtract operation\n",
    "    \n",
    "    @param circuit: QuantumCircuit containing operands\n",
    "    @param control_bit: single bit controling whether op begins.\n",
    "    @param min_reg: QuantumRegister containing integer to transform\n",
    "    @param scratch_reg: Quantum register in initial |0..0> state used to store carry result of each simple addition.\n",
    "    @param start_shifting_at: index in acc_reg of bit to shift\n",
    "    \"\"\"\n",
    "    \n",
    "    circuit.x(min_reg[start_shifting_at])\n",
    "    circuit.ccx(min_reg[start_shifting_at], control_bit, scratch_reg[start_shifting_at])\n",
    "    circuit.x(min_reg[start_shifting_at])\n",
    "    \n",
    "    # Check how deep the borrow goes. Flip a scratch bit for every borrow op.\n",
    "    for bit in range(start_shifting_at + 1, len(min_reg)):\n",
    "        circuit.x(min_reg[bit])\n",
    "        circuit.ccx(min_reg[bit], scratch_reg[bit - 1], scratch_reg[bit])\n",
    "        circuit.x(min_reg[bit])\n",
    "        \n",
    "    # Perform every borrow indicated in scratch, and then flip targeted bit.\n",
    "    for bit in range(len(scratch_reg) - 2, -1, -1):\n",
    "        circuit.cx(scratch_reg[bit], min_reg[bit+1])\n",
    "        \n",
    "    # Finally flip original target bit\n",
    "    circuit.x(min_reg[start_shifting_at])"
   ]
  },
  {
   "cell_type": "code",
   "execution_count": null,
   "metadata": {},
   "outputs": [],
   "source": [
    "def carry_op(circuit, a_reg, acc_reg, scratch_reg):\n",
    "    \"\"\"Used as 'CARRY' operator for circuit illustated in arxiv.org/quant-ph/9511018\n",
    "    \n",
    "    @param circuit: QuantumCircuit\n",
    "    @param a_reg: QuantumRegister containing addend\n",
    "    @param acc_reg: QuantumRegister 'b' starts with addend and accumulates sum\n",
    "    @param scratch_reg: QuantumRegister holds carry bits at each step\"\"\"\n",
    "    for bit in range(len(a_reg)):\n",
    "        circuit.cx(a_reg[bit], acc_reg[bit])\n",
    "        circuit.x(acc_reg[bit])\n",
    "        circuit.cx(acc_reg[bit], scratch_reg[bit])\n",
    "        circuit.x(acc_reg[bit])"
   ]
  },
  {
   "cell_type": "code",
   "execution_count": null,
   "metadata": {},
   "outputs": [],
   "source": [
    "def add_to_b_in_place(circuit, a_reg, b_reg, scratch_reg):\n",
    "    \"\"\"|a > | b > => |a > |a+b >\n",
    "    \n",
    "    TESTING - Passed minimal test cases July 18 at 8:24am Pacific Time\n",
    "    \"\"\"\n",
    "        \n",
    "    for bit in range(len(a_reg)):\n",
    "        circuit.reset(scratch_reg)\n",
    "        ripple_carry_bits(\n",
    "            circuit=circuit,\n",
    "            control_bit=a_reg[bit],\n",
    "            acc_reg=b_reg,\n",
    "            scratch_reg=scratch_reg,\n",
    "            start_shifting_at=bit)"
   ]
  },
  {
   "cell_type": "code",
   "execution_count": null,
   "metadata": {},
   "outputs": [],
   "source": [
    "def sub_b_from_a_in_place(circuit, minnd_reg, subtrhnd_reg, scratch_reg):\n",
    "    \"\"\"Subtract subtrahend integer b from minuend integer a in register a\n",
    "    \n",
    "    @param circuit: QuantumCircuit containing other parameters\n",
    "    @param minnd_reg: QuantumRegister transformed from minuend to difference\n",
    "    @param subtrhnd_reg: QuantumRegister containing subtrahend\n",
    "    @param scratch_reg: QuantumRegister in initial |0...0> state used as borrow flags\n",
    "    for each primitive op (final bit indicates negative difference)\n",
    "    \"\"\"\n",
    "    \n",
    "    "
   ]
  },
  {
   "cell_type": "code",
   "execution_count": null,
   "metadata": {},
   "outputs": [],
   "source": [
    "def bit_shift_left(circuit, register, places=1):\n",
    "    \"\"\"\n",
    "    TESTING - Passed minimal test cases July 21 at 2:30 Pacific Time\n",
    "    \"\"\"\n",
    "    # zero out all trailing bits\n",
    "    num_bits = len(register)\n",
    "    for rollover in range(num_bits - places, num_bits):\n",
    "        circuit.reset(register[rollover])\n",
    "        \n",
    "    # swap every bit 'places' forward, with last bits wrapping around to beginning\n",
    "    for bit in range(num_bits - 1,places-1,-1):\n",
    "        circuit.swap(register[bit], register[bit - places])"
   ]
  },
  {
   "cell_type": "code",
   "execution_count": null,
   "metadata": {},
   "outputs": [],
   "source": [
    "def c_copy_register(circuit, control_bit, origin, dest):\n",
    "    \n",
    "    \"\"\"sets contents of dest with contents of origin if control_bit\n",
    "    WARNING - perform a reset before use\n",
    "    \"\"\"\n",
    "    circuit.reset(dest)\n",
    "    for bit in range(len(dest)):\n",
    "        circuit.ccx(control_bit, origin[bit], dest[bit])"
   ]
  },
  {
   "cell_type": "code",
   "execution_count": null,
   "metadata": {},
   "outputs": [],
   "source": [
    "def multiply(circuit, multiplicand, multiplier, scratch_zero_check, scratch_carrier, prod_accumulator):\n",
    "    \n",
    "    c_copy_register(circuit=circuit, control_bit=multiplier[0], origin=multiplicand, dest=prod_accumulator)\n",
    "    \n",
    "    for bit in range(1, len(multiplier)):\n",
    "        # free up scratch space\n",
    "        circuit.reset(scratch_carrier)\n",
    "        circuit.reset(scratch_zero_check)\n",
    "        \n",
    "        # shift multiplicand one space left, to match magnitude of current multiplier bit\n",
    "        bit_shift_left(circuit=circuit, register=multiplicand, places=1)\n",
    "        \n",
    "        # copy multiplicand into scratch register only if multiplicand bit, else keep scratch register |0>\n",
    "        c_copy_register(circuit=circuit, control_bit=multiplier[bit], origin=multiplicand, dest=scratch_zero_check)\n",
    "        \n",
    "        # add that scratch term (shifted multiplicand or zero) to accumulated product\n",
    "        add_to_b_in_place(circuit=circuit, a_reg=scratch_zero_check, b_reg=prod_accumulator, scratch_reg=scratch_carrier)"
   ]
  },
  {
   "cell_type": "markdown",
   "metadata": {},
   "source": [
    "## General Room to Play"
   ]
  },
  {
   "cell_type": "code",
   "execution_count": null,
   "metadata": {},
   "outputs": [],
   "source": [
    "n_reg = QuantumRegister(3, 'n')\n",
    "m_reg = QuantumRegister(3, 'm')\n",
    "scratch_a = QuantumRegister(3, 'sca')\n",
    "scratch_b = QuantumRegister(3, 'scb')\n",
    "scratch_y = QuantumRegister(3, 'accm')\n",
    "class_reg = ClassicalRegister(3, 'y')\n",
    "qc = QuantumCircuit(n_reg, m_reg, scratch_a, scratch_b, scratch_y, class_reg)"
   ]
  },
  {
   "cell_type": "code",
   "execution_count": null,
   "metadata": {},
   "outputs": [],
   "source": [
    "# Register n set to 5\n",
    "qc.x(n_reg[0])\n",
    "qc.x(n_reg[1])\n",
    "# qc.x(n_reg[2])\n",
    "# Register m set to\n",
    "# qc.x(m_reg[0])\n",
    "qc.x(m_reg[1])"
   ]
  },
  {
   "cell_type": "markdown",
   "metadata": {},
   "source": [
    "## Ripple Subtract Test Cases"
   ]
  },
  {
   "cell_type": "markdown",
   "metadata": {},
   "source": [
    "### Setup"
   ]
  },
  {
   "cell_type": "code",
   "execution_count": 3,
   "metadata": {},
   "outputs": [],
   "source": [
    "n_reg = QuantumRegister(3, 'n')\n",
    "m_reg = QuantumRegister(2, 'm')\n",
    "scratch_a = QuantumRegister(3, 'sca')\n",
    "class_reg = ClassicalRegister(3, 'y')\n",
    "\n",
    "backend = Aer.get_backend('qasm_simulator')"
   ]
  },
  {
   "cell_type": "markdown",
   "metadata": {},
   "source": [
    "### BeforeAll"
   ]
  },
  {
   "cell_type": "code",
   "execution_count": 4,
   "metadata": {},
   "outputs": [
    {
     "data": {
      "text/plain": [
       "<qiskit.extensions.standard.x.XGate at 0x7f9b2060c1d0>"
      ]
     },
     "execution_count": 4,
     "metadata": {},
     "output_type": "execute_result"
    }
   ],
   "source": [
    "n_reg = QuantumRegister(3, 'n')\n",
    "scratch_a = QuantumRegister(3, 'sca')\n",
    "qc = QuantumCircuit(n_reg, m_reg, scratch_a, class_reg)\n",
    "\n",
    "# Set control bits\n",
    "qc.x(m_reg[1])"
   ]
  },
  {
   "cell_type": "markdown",
   "metadata": {},
   "source": [
    "#### Case 1\n",
    "**Status:** Passing  \n",
    "**Expected Result:** `0`"
   ]
  },
  {
   "cell_type": "code",
   "execution_count": 11,
   "metadata": {},
   "outputs": [
    {
     "data": {
      "text/html": [
       "<pre style=\"word-wrap: normal;white-space: pre;line-height: 15px;\">          ┌───┐ ░ ┌───┐     ┌───┐┌───┐               \n",
       "  n_0: |0>┤ X ├─░─┤ X ├──■──┤ X ├┤ X ├───────────────\n",
       "          └───┘ ░ ├───┤  │  └───┘├───┤┌───┐          \n",
       "  n_1: |0>──────░─┤ X ├──┼────■──┤ X ├┤ X ├──────────\n",
       "                ░ ├───┤  │    │  └───┘└─┬─┘┌───┐┌───┐\n",
       "  n_2: |0>──────░─┤ X ├──┼────┼────■────┼──┤ X ├┤ X ├\n",
       "                ░ └───┘  │    │    │    │  └───┘└─┬─┘\n",
       "  m_0: |0>──────░────────┼────┼────┼────┼─────────┼──\n",
       "          ┌───┐ ░        │    │    │    │         │  \n",
       "  m_1: |0>┤ X ├─░────────■────┼────┼────┼─────────┼──\n",
       "          └───┘ ░      ┌─┴─┐  │    │    │         │  \n",
       "sca_0: |0>──────░──────┤ X ├──■────┼────■─────────┼──\n",
       "                ░      └───┘┌─┴─┐  │              │  \n",
       "sca_1: |0>──────░───────────┤ X ├──■──────────────■──\n",
       "                ░           └───┘┌─┴─┐               \n",
       "sca_2: |0>──────░────────────────┤ X ├───────────────\n",
       "                ░                └───┘               \n",
       "   y_0: 0 ═══════════════════════════════════════════\n",
       "                                                     \n",
       "   y_1: 0 ═══════════════════════════════════════════\n",
       "                                                     \n",
       "   y_2: 0 ═══════════════════════════════════════════\n",
       "                                                     </pre>"
      ],
      "text/plain": [
       "<qiskit.visualization.text.TextDrawing at 0x7f3a6a101048>"
      ]
     },
     "execution_count": 11,
     "metadata": {},
     "output_type": "execute_result"
    }
   ],
   "source": [
    "# 1 - 1 = 0\n",
    "\n",
    "\"\"\"\n",
    "PASSED July 29 10:58am Pacific Time\n",
    "\"\"\"\n",
    "\n",
    "qc.x(n_reg[0])\n",
    "qc.barrier()\n",
    "c_ripple_subtract(circuit=qc, min_reg=n_reg, control_bit=m_reg[1], scratch_reg=scratch_a, start_shifting_at=0)\n",
    "qc.draw()\n",
    "\n"
   ]
  },
  {
   "cell_type": "markdown",
   "metadata": {},
   "source": [
    "#### Case 2\n",
    "**Status:** Passing  \n",
    "**Expected Result**: `1`"
   ]
  },
  {
   "cell_type": "code",
   "execution_count": 14,
   "metadata": {},
   "outputs": [],
   "source": [
    "# 2 - 1 = 1\n",
    "\"\"\"\n",
    "PASSED July 29 10:58am Pacific Time\n",
    "\"\"\"\n",
    "\n",
    "qc.x(n_reg[1])\n",
    "qc.barrier()\n",
    "c_ripple_subtract(circuit=qc, min_reg=n_reg, control_bit=m_reg[True], scratch_reg=scratch_a, start_shifting_at=0)\n",
    "# qc.draw()"
   ]
  },
  {
   "cell_type": "markdown",
   "metadata": {},
   "source": [
    "#### Case 3\n",
    "**Status:** Passing     \n",
    "**Expected Result:** `3`"
   ]
  },
  {
   "cell_type": "code",
   "execution_count": 19,
   "metadata": {},
   "outputs": [
    {
     "data": {
      "text/html": [
       "<pre style=\"word-wrap: normal;white-space: pre;line-height: 15px;\">          ┌───┐          ┌───┐┌───┐               \n",
       "  n_0: |0>┤ X ├──■───────┤ X ├┤ X ├───────────────\n",
       "          ├───┤  │       └───┘├───┤┌───┐          \n",
       "  n_1: |0>┤ X ├──┼─────────■──┤ X ├┤ X ├──────────\n",
       "          ├───┤  │  ┌───┐  │  └───┘└─┬─┘┌───┐┌───┐\n",
       "  n_2: |0>┤ X ├──┼──┤ X ├──┼────■────┼──┤ X ├┤ X ├\n",
       "          └───┘  │  └───┘  │    │    │  └───┘└─┬─┘\n",
       "  m_0: |0>───────┼─────────┼────┼────┼─────────┼──\n",
       "          ┌───┐  │         │    │    │         │  \n",
       "  m_1: |0>┤ X ├──■─────────┼────┼────┼─────────┼──\n",
       "          └───┘┌─┴─┐       │    │    │         │  \n",
       "sca_0: |0>─────┤ X ├───────■────┼────■─────────┼──\n",
       "               └───┘     ┌─┴─┐  │              │  \n",
       "sca_1: |0>───────────────┤ X ├──■──────────────■──\n",
       "                         └───┘┌─┴─┐               \n",
       "sca_2: |0>────────────────────┤ X ├───────────────\n",
       "                              └───┘               \n",
       "   y_0: 0 ════════════════════════════════════════\n",
       "                                                  \n",
       "   y_1: 0 ════════════════════════════════════════\n",
       "                                                  \n",
       "   y_2: 0 ════════════════════════════════════════\n",
       "                                                  </pre>"
      ],
      "text/plain": [
       "<qiskit.visualization.text.TextDrawing at 0x7f3a69ecdef0>"
      ]
     },
     "execution_count": 19,
     "metadata": {},
     "output_type": "execute_result"
    }
   ],
   "source": [
    "# 4 - 1 = 3\n",
    "\"\"\"\n",
    "PASSED July 29 10:58am Pacific Time\n",
    "\"\"\"\n",
    "\n",
    "qc.x(n_reg[2])\n",
    "\n",
    "c_ripple_subtract(circuit=qc, min_reg=n_reg, control_bit=m_reg[True], scratch_reg=scratch_a, start_shifting_at=0)\n",
    "qc.draw()"
   ]
  },
  {
   "cell_type": "markdown",
   "metadata": {},
   "source": [
    "#### Case 4\n",
    "**Status:** Passing  \n",
    "**Expected Result:** `5`"
   ]
  },
  {
   "cell_type": "code",
   "execution_count": 22,
   "metadata": {},
   "outputs": [
    {
     "data": {
      "text/html": [
       "<pre style=\"word-wrap: normal;white-space: pre;line-height: 15px;\">          ┌───┐          ┌───┐┌───┐                    \n",
       "  n_0: |0>┤ X ├──■───────┤ X ├┤ X ├────────────────────\n",
       "          ├───┤  │       ├───┤└───┘┌───┐┌───┐          \n",
       "  n_1: |0>┤ X ├──■───────┤ X ├──■──┤ X ├┤ X ├──────────\n",
       "          ├───┤  │  ┌───┐└───┘  │  └───┘└─┬─┘┌───┐┌───┐\n",
       "  n_2: |0>┤ X ├──┼──┤ X ├───────┼────■────┼──┤ X ├┤ X ├\n",
       "          └───┘  │  └───┘       │    │    │  └───┘└─┬─┘\n",
       "  m_0: |0>───────┼──────────────┼────┼────┼─────────┼──\n",
       "          ┌───┐  │              │    │    │         │  \n",
       "  m_1: |0>┤ X ├──┼──────────────┼────┼────┼─────────┼──\n",
       "          └───┘┌─┴─┐            │    │    │         │  \n",
       "sca_0: |0>─────┤ X ├────────────■────┼────■─────────┼──\n",
       "               └───┘          ┌─┴─┐  │              │  \n",
       "sca_1: |0>────────────────────┤ X ├──■──────────────■──\n",
       "                              └───┘┌─┴─┐               \n",
       "sca_2: |0>─────────────────────────┤ X ├───────────────\n",
       "                                   └───┘               \n",
       "   y_0: 0 ═════════════════════════════════════════════\n",
       "                                                       \n",
       "   y_1: 0 ═════════════════════════════════════════════\n",
       "                                                       \n",
       "   y_2: 0 ═════════════════════════════════════════════\n",
       "                                                       </pre>"
      ],
      "text/plain": [
       "<qiskit.visualization.text.TextDrawing at 0x7f3a6a32d320>"
      ]
     },
     "execution_count": 22,
     "metadata": {},
     "output_type": "execute_result"
    }
   ],
   "source": [
    "# 6 - 1 = 5\n",
    "\"\"\"\n",
    "PASSED July 29 10:58am Pacific Time\n",
    "\"\"\"\n",
    "\n",
    "qc.x(n_reg[1])\n",
    "qc.x(n_reg[2])\n",
    "\n",
    "c_ripple_subtract(circuit=qc, min_reg=n_reg, control_bit=n_reg[True], scratch_reg=scratch_a, start_shifting_at=0)\n",
    "qc.draw()"
   ]
  },
  {
   "cell_type": "markdown",
   "metadata": {},
   "source": [
    "#### Case 5\n",
    "**Status:** Passing  \n",
    "**Expected Result:** `4`"
   ]
  },
  {
   "cell_type": "code",
   "execution_count": 25,
   "metadata": {},
   "outputs": [],
   "source": [
    "# 5 - 1 = 4\n",
    "\"\"\"\n",
    "PASSED July 29 10:58am Pacific Time\n",
    "\"\"\"\n",
    "\n",
    "qc.x(n_reg[0])\n",
    "qc.x(n_reg[2])\n",
    "\n",
    "c_ripple_subtract(circuit=qc, min_reg=n_reg, control_bit=m_reg[True], scratch_reg=scratch_a, start_shifting_at=0)\n",
    "# c_draw()"
   ]
  },
  {
   "cell_type": "markdown",
   "metadata": {},
   "source": [
    "#### Case 6\n",
    "**Status:** Passing  \n",
    "**Expected Result:** 3"
   ]
  },
  {
   "cell_type": "code",
   "execution_count": 28,
   "metadata": {
    "scrolled": true
   },
   "outputs": [],
   "source": [
    "# 5 - 2 = 3\n",
    "\"\"\"\n",
    "PASSED July 29 10:58am Pacific Time\n",
    "\"\"\"\n",
    "\n",
    "qc.x(n_reg[0])\n",
    "qc.x(n_reg[2])\n",
    "\n",
    "c_ripple_subtract(circuit=qc, min_reg=n_reg, control_bit=m_reg[True], scratch_reg=scratch_a, start_shifting_at=1)\n",
    "# qc.draw()"
   ]
  },
  {
   "cell_type": "markdown",
   "metadata": {},
   "source": [
    "#### Case 7\n",
    "**Status:** Passing  \n",
    "**Expected Result:** `5`"
   ]
  },
  {
   "cell_type": "code",
   "execution_count": 31,
   "metadata": {},
   "outputs": [
    {
     "data": {
      "text/html": [
       "<pre style=\"word-wrap: normal;white-space: pre;line-height: 15px;\">          ┌───┐                              \n",
       "  n_0: |0>┤ X ├──────────────────────────────\n",
       "          ├───┤┌───┐     ┌───┐┌───┐     ┌───┐\n",
       "  n_1: |0>┤ X ├┤ X ├──■──┤ X ├┤ X ├─────┤ X ├\n",
       "          ├───┤├───┤  │  └───┘└─┬─┘┌───┐├───┤\n",
       "  n_2: |0>┤ X ├┤ X ├──┼────■────┼──┤ X ├┤ X ├\n",
       "          └───┘└───┘  │    │    │  └───┘└─┬─┘\n",
       "  m_0: |0>────────────┼────┼────┼─────────┼──\n",
       "          ┌───┐       │    │    │         │  \n",
       "  m_1: |0>┤ X ├───────■────┼────┼─────────┼──\n",
       "          └───┘       │    │    │         │  \n",
       "sca_0: |0>────────────┼────┼────■─────────┼──\n",
       "                    ┌─┴─┐  │              │  \n",
       "sca_1: |0>──────────┤ X ├──■──────────────■──\n",
       "                    └───┘┌─┴─┐               \n",
       "sca_2: |0>───────────────┤ X ├───────────────\n",
       "                         └───┘               \n",
       "   y_0: 0 ═══════════════════════════════════\n",
       "                                             \n",
       "   y_1: 0 ═══════════════════════════════════\n",
       "                                             \n",
       "   y_2: 0 ═══════════════════════════════════\n",
       "                                             </pre>"
      ],
      "text/plain": [
       "<qiskit.visualization.text.TextDrawing at 0x7f3ab3d11358>"
      ]
     },
     "execution_count": 31,
     "metadata": {},
     "output_type": "execute_result"
    }
   ],
   "source": [
    "# 7 - 2 = 5\n",
    "qc.x(n_reg[0])\n",
    "qc.x(n_reg[1])\n",
    "qc.x(n_reg[2])\n",
    "\n",
    "c_ripple_subtract(circuit=qc, min_reg=n_reg, control_bit=m_reg[True], scratch_reg=scratch_a, start_shifting_at=1)\n",
    "qc.draw()"
   ]
  },
  {
   "cell_type": "markdown",
   "metadata": {},
   "source": [
    "#### Case 8\n",
    "**Status:**  \n",
    "**Expected Result:** `7`"
   ]
  },
  {
   "cell_type": "code",
   "execution_count": 5,
   "metadata": {},
   "outputs": [
    {
     "data": {
      "text/html": [
       "<pre style=\"word-wrap: normal;white-space: pre;line-height: 15px;\">          ┌───┐ ░                               \n",
       "  n_0: |0>┤ X ├─░───────────────────────────────\n",
       "          ├───┤ ░ ┌───┐     ┌───┐┌───┐     ┌───┐\n",
       "  n_1: |0>┤ X ├─░─┤ X ├──■──┤ X ├┤ X ├─────┤ X ├\n",
       "          ├───┤ ░ ├───┤  │  └───┘└─┬─┘┌───┐├───┤\n",
       "  n_2: |0>┤ X ├─░─┤ X ├──┼────■────┼──┤ X ├┤ X ├\n",
       "          └───┘ ░ └───┘  │    │    │  └───┘└─┬─┘\n",
       "  m_0: |0>──────░────────■────┼────┼─────────┼──\n",
       "          ┌───┐ ░        │    │    │         │  \n",
       "  m_1: |0>┤ X ├─░────────┼────┼────┼─────────┼──\n",
       "          └───┘ ░        │    │    │         │  \n",
       "sca_0: |0>──────░────────┼────┼────■─────────┼──\n",
       "                ░      ┌─┴─┐  │              │  \n",
       "sca_1: |0>──────░──────┤ X ├──■──────────────■──\n",
       "                ░      └───┘┌─┴─┐               \n",
       "sca_2: |0>──────░───────────┤ X ├───────────────\n",
       "                ░           └───┘               \n",
       "   y_0: 0 ══════════════════════════════════════\n",
       "                                                \n",
       "   y_1: 0 ══════════════════════════════════════\n",
       "                                                \n",
       "   y_2: 0 ══════════════════════════════════════\n",
       "                                                </pre>"
      ],
      "text/plain": [
       "<qiskit.visualization.text.TextDrawing at 0x7f9b60a952e8>"
      ]
     },
     "execution_count": 5,
     "metadata": {},
     "output_type": "execute_result"
    }
   ],
   "source": [
    "# 7 - 0 = 7\n",
    "qc.x(n_reg[0])\n",
    "qc.x(n_reg[1])\n",
    "qc.x(n_reg[2])\n",
    "qc.barrier()\n",
    "c_ripple_subtract(circuit=qc, min_reg=n_reg, control_bit=m_reg[False], scratch_reg=scratch_a, start_shifting_at=1)\n",
    "qc.draw()"
   ]
  },
  {
   "cell_type": "code",
   "execution_count": null,
   "metadata": {},
   "outputs": [],
   "source": [
    "# 1 - 2 = ?\n",
    "qc.x(n_reg[0])\n",
    "\n",
    "c_ripple_subtract(circuit=qc, min_reg=n_reg, control_bit=m_reg[True], scratch_reg=scratch_a, start_shifting_at=1)\n",
    "# c_draw()"
   ]
  },
  {
   "cell_type": "markdown",
   "metadata": {},
   "source": [
    "### PostAllTests"
   ]
  },
  {
   "cell_type": "code",
   "execution_count": 6,
   "metadata": {},
   "outputs": [
    {
     "data": {
      "text/plain": [
       "{'101': 1024}"
      ]
     },
     "execution_count": 6,
     "metadata": {},
     "output_type": "execute_result"
    }
   ],
   "source": [
    "for bit in range(len(n_reg)):\n",
    "    qc.measure(n_reg[bit], class_reg[bit])\n",
    "    \n",
    "execute(qc, backend=backend, shots=1024).result().get_counts()"
   ]
  },
  {
   "cell_type": "code",
   "execution_count": null,
   "metadata": {},
   "outputs": [],
   "source": [
    "multiply(\n",
    "    circuit=qc,\n",
    "    multiplier=n_reg,\n",
    "    multiplicand=m_reg,\n",
    "    scratch_zero_check=scratch_b,\n",
    "    scratch_carrier=scratch_a,\n",
    "    prod_accumulator=scratch_y)\n",
    "\n",
    "# add_to_b_in_place(circuit=qc, a_reg=n_reg, b_reg=m_reg, scratch_reg=scratch_a)\n",
    "# bit_shift_left(circuit=qc, register=m_reg, places=1)"
   ]
  },
  {
   "cell_type": "code",
   "execution_count": null,
   "metadata": {
    "scrolled": true
   },
   "outputs": [],
   "source": [
    "# ripple_carry_bits(circuit=qc, control_bit=n_reg[0],acc_reg=m_reg,scratch_reg=scratch_reg, start_shifting_at=0)\n",
    "# bit_shift_left(circuit=qc, register=m_reg, places=1)\n",
    "for index in range(len(m_reg)):\n",
    "    qc.measure(scratch_y[index], class_reg[index])"
   ]
  },
  {
   "cell_type": "code",
   "execution_count": null,
   "metadata": {
    "scrolled": true
   },
   "outputs": [],
   "source": [
    "qc.draw()"
   ]
  },
  {
   "cell_type": "code",
   "execution_count": null,
   "metadata": {},
   "outputs": [],
   "source": [
    "qc_opt = transpile(qc, optimization_level=1, backend=backend)"
   ]
  },
  {
   "cell_type": "code",
   "execution_count": null,
   "metadata": {},
   "outputs": [],
   "source": [
    "qc_opt.draw()"
   ]
  },
  {
   "cell_type": "code",
   "execution_count": null,
   "metadata": {},
   "outputs": [],
   "source": []
  },
  {
   "cell_type": "code",
   "execution_count": null,
   "metadata": {},
   "outputs": [],
   "source": [
    "simulate = execute(qc_opt, backend=backend, shots=1024).result()"
   ]
  },
  {
   "cell_type": "code",
   "execution_count": null,
   "metadata": {},
   "outputs": [],
   "source": [
    "simulate.get_counts()"
   ]
  },
  {
   "cell_type": "code",
   "execution_count": null,
   "metadata": {},
   "outputs": [],
   "source": [
    "qc.reset(n_reg[0])"
   ]
  },
  {
   "cell_type": "code",
   "execution_count": null,
   "metadata": {},
   "outputs": [],
   "source": [
    "print(max_memory_mb)"
   ]
  },
  {
   "cell_type": "code",
   "execution_count": null,
   "metadata": {},
   "outputs": [],
   "source": []
  }
 ],
 "metadata": {
  "kernelspec": {
   "display_name": "Python 3",
   "language": "python",
   "name": "python3"
  },
  "language_info": {
   "codemirror_mode": {
    "name": "ipython",
    "version": 3
   },
   "file_extension": ".py",
   "mimetype": "text/x-python",
   "name": "python",
   "nbconvert_exporter": "python",
   "pygments_lexer": "ipython3",
   "version": "3.6.7"
  }
 },
 "nbformat": 4,
 "nbformat_minor": 2
}
