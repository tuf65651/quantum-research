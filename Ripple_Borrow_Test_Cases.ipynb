{
 "cells": [
  {
   "cell_type": "code",
   "execution_count": 1,
   "metadata": {},
   "outputs": [],
   "source": [
    "# %matplotlib inline\n",
    "# Importing standard Qiskit libraries and configuring account\n",
    "from qiskit import QuantumCircuit, QuantumRegister, ClassicalRegister, execute, Aer, IBMQ\n",
    "from qiskit.compiler import transpile, assemble\n",
    "from qiskit.tools.jupyter import *\n",
    "from qiskit.visualization import *\n",
    "from datetime import datetime\n",
    "# import math\n",
    "# Loading your IBM Q account(s)\n",
    "# IBMQ.load_account()"
   ]
  },
  {
   "cell_type": "markdown",
   "metadata": {},
   "source": [
    "## PostAllTests"
   ]
  },
  {
   "cell_type": "code",
   "execution_count": 2,
   "metadata": {},
   "outputs": [],
   "source": [
    "def get_results_of_last_test():\n",
    "    for bit in range(len(n_reg)):\n",
    "        qc.measure(n_reg[bit], class_reg[bit])\n",
    "\n",
    "    simulate = execute(qc, backend=backend, shots=1024).result()\n",
    "    return simulate.get_counts()\n",
    "\n",
    "def verify_results(expected):\n",
    "    time_stamp = str(datetime.now())\n",
    "    if [expected] == list(results.keys()):\n",
    "        print(\"PASSING - {}\", test_timestamp)\n",
    "    else:\n",
    "        print(\"FAILING - {}\", test_timestamp)\n",
    "        print(f'Got - {results}')\n",
    "    "
   ]
  },
  {
   "cell_type": "markdown",
   "metadata": {},
   "source": [
    "## General Room to Play"
   ]
  },
  {
   "cell_type": "code",
   "execution_count": null,
   "metadata": {},
   "outputs": [],
   "source": [
    "n_reg = QuantumRegister(3, 'n')\n",
    "m_reg = QuantumRegister(3, 'm')\n",
    "scratch_a = QuantumRegister(3, 'sca')\n",
    "scratch_b = QuantumRegister(3, 'scb')\n",
    "scratch_y = QuantumRegister(3, 'accm')\n",
    "class_reg = ClassicalRegister(3, 'y')\n",
    "qc = QuantumCircuit(n_reg, m_reg, scratch_a, scratch_b, scratch_y, class_reg)"
   ]
  },
  {
   "cell_type": "code",
   "execution_count": null,
   "metadata": {},
   "outputs": [],
   "source": [
    "# Register n set to 5\n",
    "qc.x(n_reg[0])\n",
    "qc.x(n_reg[1])\n",
    "# qc.x(n_reg[2])\n",
    "# Register m set to\n",
    "# qc.x(m_reg[0])\n",
    "qc.x(m_reg[1])"
   ]
  },
  {
   "cell_type": "markdown",
   "metadata": {},
   "source": [
    "## Ripple Subtract Test Cases"
   ]
  },
  {
   "cell_type": "markdown",
   "metadata": {},
   "source": [
    "### Setup"
   ]
  },
  {
   "cell_type": "code",
   "execution_count": 30,
   "metadata": {},
   "outputs": [],
   "source": [
    "# global n_reg\n",
    "# global m_reg\n",
    "# global scratch_a\n",
    "# global class_reg\n",
    "# global backend\n",
    "# global qc\n",
    "# global test_timestamp\n",
    "\n",
    "# def before_tests():\n",
    "n_reg = QuantumRegister(3, 'n')\n",
    "m_reg = QuantumRegister(2, 'm')\n",
    "scratch_reg = QuantumRegister(3, 'sca')\n",
    "class_reg = ClassicalRegister(3, 'y')\n",
    "qc = QuantumCircuit(n_reg, m_reg, scratch_reg, class_reg)\n",
    "\n",
    "backend = Aer.get_backend('qasm_simulator')\n",
    "test_timestamp = str(datetime.now())\n",
    "\n",
    "from ArithmaticFunctions import *"
   ]
  },
  {
   "cell_type": "markdown",
   "metadata": {},
   "source": [
    "### BeforeAll"
   ]
  },
  {
   "cell_type": "code",
   "execution_count": 3,
   "metadata": {},
   "outputs": [],
   "source": [
    "def before_each_ripple_borrow_test():\n",
    "    n_reg = QuantumRegister(3, 'n')\n",
    "    m_reg = QuantumRegister(2, 'm')\n",
    "    scratch_a = QuantumRegister(3, 'sca')\n",
    "    qc = QuantumCircuit(n_reg, m_reg, scratch_a, class_reg)\n",
    "\n",
    "    # Set control bits\n",
    "    qc.x(m_reg[1])\n",
    "    \n",
    "    return {'n_reg': n_reg, 'm_reg': m_reg, 'scratch_a': scratch_a, 'class_reg': class_reg, 'qc': qc }"
   ]
  },
  {
   "cell_type": "code",
   "execution_count": 30,
   "metadata": {},
   "outputs": [],
   "source": [
    "# global n_reg\n",
    "# global m_reg\n",
    "# global scratch_a\n",
    "# global class_reg\n",
    "# global backend\n",
    "# global qc\n",
    "# global test_timestamp\n",
    "\n",
    "# def before_tests():\n",
    "n_reg = QuantumRegister(3, 'n')\n",
    "m_reg = QuantumRegister(2, 'm')\n",
    "scratch_reg = QuantumRegister(3, 'sca')\n",
    "class_reg = ClassicalRegister(3, 'y')\n",
    "qc = QuantumCircuit(n_reg, m_reg, scratch_reg, class_reg)\n",
    "\n",
    "backend = Aer.get_backend('qasm_simulator')\n",
    "test_timestamp = str(datetime.now())\n",
    "\n",
    "from ArithmaticFunctions import *"
   ]
  },
  {
   "cell_type": "markdown",
   "metadata": {},
   "source": [
    "### Setup"
   ]
  },
  {
   "cell_type": "code",
   "execution_count": 30,
   "metadata": {},
   "outputs": [],
   "source": [
    "# global n_reg\n",
    "# global m_reg\n",
    "# global scratch_a\n",
    "# global class_reg\n",
    "# global backend\n",
    "# global qc\n",
    "# global test_timestamp\n",
    "\n",
    "# def before_tests():\n",
    "n_reg = QuantumRegister(3, 'n')\n",
    "m_reg = QuantumRegister(2, 'm')\n",
    "scratch_reg = QuantumRegister(3, 'sca')\n",
    "class_reg = ClassicalRegister(3, 'y')\n",
    "qc = QuantumCircuit(n_reg, m_reg, scratch_reg, class_reg)\n",
    "\n",
    "backend = Aer.get_backend('qasm_simulator')\n",
    "test_timestamp = str(datetime.now())\n",
    "\n",
    "from ArithmaticFunctions import *"
   ]
  },
  {
   "cell_type": "markdown",
   "metadata": {},
   "source": [
    "#### Case 1\n",
    "**Status:** Passing  \n",
    "**Expected Result:** `0`"
   ]
  },
  {
   "cell_type": "code",
   "execution_count": 7,
   "metadata": {},
   "outputs": [
    {
     "data": {
      "text/html": [
       "<pre style=\"word-wrap: normal;white-space: pre;line-height: 15px;\">          ┌───┐ ░ ┌───┐     ┌───┐     ┌───┐          ┌─┐                \n",
       "  n_0: |0>┤ X ├─░─┤ X ├──■──┤ X ├─────┤ X ├──────────┤M├────────────────\n",
       "          └───┘ ░ ├───┤  │  └───┘     └─┬─┘┌───┐┌───┐└╥┘          ┌─┐   \n",
       "  n_1: |0>──────░─┤ X ├──┼────■─────────┼──┤ X ├┤ X ├─╫───────────┤M├───\n",
       "                ░ ├───┤  │    │         │  └───┘└─┬─┘ ║ ┌───┐┌───┐└╥┘┌─┐\n",
       "  n_2: |0>──────░─┤ X ├──┼────┼────■────┼─────────┼───╫─┤ X ├┤ X ├─╫─┤M├\n",
       "                ░ └───┘  │    │    │    │         │   ║ └───┘└─┬─┘ ║ └╥┘\n",
       "  m_0: |0>──────░────────┼────┼────┼────┼─────────┼───╫────────┼───╫──╫─\n",
       "          ┌───┐ ░        │    │    │    │         │   ║        │   ║  ║ \n",
       "  m_1: |0>┤ X ├─░────────■────┼────┼────■─────────┼───╫────────┼───╫──╫─\n",
       "          └───┘ ░      ┌─┴─┐  │    │              │   ║        │   ║  ║ \n",
       "sca_0: |0>──────░──────┤ X ├──■────┼──────────────■───╫────────┼───╫──╫─\n",
       "                ░      └───┘┌─┴─┐  │                  ║        │   ║  ║ \n",
       "sca_1: |0>──────░───────────┤ X ├──■──────────────────╫────────■───╫──╫─\n",
       "                ░           └───┘┌─┴─┐                ║            ║  ║ \n",
       "sca_2: |0>──────░────────────────┤ X ├────────────────╫────────────╫──╫─\n",
       "                ░                └───┘                ║            ║  ║ \n",
       "   y_0: 0 ════════════════════════════════════════════╩════════════╬══╬═\n",
       "                                                                   ║  ║ \n",
       "   y_1: 0 ═════════════════════════════════════════════════════════╩══╬═\n",
       "                                                                      ║ \n",
       "   y_2: 0 ════════════════════════════════════════════════════════════╩═\n",
       "                                                                        </pre>"
      ],
      "text/plain": [
       "<qiskit.visualization.text.TextDrawing at 0x7f50bbd8b5f8>"
      ]
     },
     "execution_count": 7,
     "metadata": {},
     "output_type": "execute_result"
    }
   ],
   "source": [
    "# 1 - 1 = 0\n",
    "\n",
    "\"\"\"\n",
    "PASSED July 29 10:58am Pacific Time\n",
    "\"\"\"\n",
    "test_components = before_each_ripple_borrow_test()\n",
    "qc = test_components['qc']\n",
    "\n",
    "qc.x(n_reg[0])\n",
    "qc.barrier()\n",
    "c_ripple_subtract(circuit=qc, min_reg=n_reg, control_bit=m_reg[1], scratch_reg=scratch_a, start_shifting_at=0)\n",
    "\n",
    "results = get_results_of_last_test()\n",
    "\n",
    "# qc.draw()"
   ]
  },
  {
   "cell_type": "code",
   "execution_count": 8,
   "metadata": {},
   "outputs": [
    {
     "name": "stdout",
     "output_type": "stream",
     "text": [
      "PASSING - {} 2019-07-30 14:27:30.569891\n"
     ]
    }
   ],
   "source": [
    "verify_results(expected='000')"
   ]
  },
  {
   "cell_type": "markdown",
   "metadata": {},
   "source": [
    "#### Case 2\n",
    "**Status:** Passing  \n",
    "**Expected Result**: `1`"
   ]
  },
  {
   "cell_type": "code",
   "execution_count": 9,
   "metadata": {},
   "outputs": [],
   "source": [
    "# 2 - 1 = 1\n",
    "\"\"\"\n",
    "PASSED July 29 10:58am Pacific Time\n",
    "\"\"\"\n",
    "test_components = before_each_ripple_borrow_test()\n",
    "qc = test_components['qc']\n",
    "\n",
    "qc.x(n_reg[1])\n",
    "# qc.barrier()\n",
    "c_ripple_subtract(circuit=qc, min_reg=n_reg, control_bit=m_reg[True], scratch_reg=scratch_a, start_shifting_at=0)\n",
    "\n",
    "results = get_results_of_last_test()\n",
    "# qc.draw()"
   ]
  },
  {
   "cell_type": "code",
   "execution_count": 10,
   "metadata": {
    "scrolled": true
   },
   "outputs": [
    {
     "name": "stdout",
     "output_type": "stream",
     "text": [
      "PASSING - {} 2019-07-30 14:27:30.569891\n"
     ]
    }
   ],
   "source": [
    "verify_results(expected='001')"
   ]
  },
  {
   "cell_type": "markdown",
   "metadata": {},
   "source": [
    "#### Case 3\n",
    "**Status:** Passing     \n",
    "**Expected Result:** `3`"
   ]
  },
  {
   "cell_type": "code",
   "execution_count": 11,
   "metadata": {},
   "outputs": [],
   "source": [
    "# 4 - 1 = 3\n",
    "\"\"\"\n",
    "PASSED July 29 10:58am Pacific Time\n",
    "\"\"\"\n",
    "test_components = before_each_ripple_borrow_test()\n",
    "qc = test_components['qc']\n",
    "\n",
    "qc.x(n_reg[2])\n",
    "\n",
    "c_ripple_subtract(circuit=qc, min_reg=n_reg, control_bit=m_reg[True], scratch_reg=scratch_a, start_shifting_at=0)\n",
    "results = get_results_of_last_test()\n",
    "\n",
    "# qc.draw()"
   ]
  },
  {
   "cell_type": "code",
   "execution_count": 12,
   "metadata": {
    "scrolled": true
   },
   "outputs": [
    {
     "name": "stdout",
     "output_type": "stream",
     "text": [
      "PASSING - {} 2019-07-30 14:27:30.569891\n"
     ]
    }
   ],
   "source": [
    "verify_results(expected='011')"
   ]
  },
  {
   "cell_type": "markdown",
   "metadata": {},
   "source": [
    "#### Case 4\n",
    "**Status:** Passing  \n",
    "**Expected Result:** `5`"
   ]
  },
  {
   "cell_type": "code",
   "execution_count": 18,
   "metadata": {},
   "outputs": [
    {
     "data": {
      "text/html": [
       "<pre style=\"word-wrap: normal;white-space: pre;line-height: 15px;\">          ┌───┐          ┌───┐     ┌───┐          ┌─┐                \n",
       "  n_0: |0>┤ X ├──■───────┤ X ├─────┤ X ├──────────┤M├────────────────\n",
       "          ├───┤  │  ┌───┐└───┘     └─┬─┘┌───┐┌───┐└╥┘          ┌─┐   \n",
       "  n_1: |0>┤ X ├──┼──┤ X ├──■─────────┼──┤ X ├┤ X ├─╫───────────┤M├───\n",
       "          ├───┤  │  ├───┤  │         │  └───┘└─┬─┘ ║ ┌───┐┌───┐└╥┘┌─┐\n",
       "  n_2: |0>┤ X ├──┼──┤ X ├──┼────■────┼─────────┼───╫─┤ X ├┤ X ├─╫─┤M├\n",
       "          └───┘  │  └───┘  │    │    │         │   ║ └───┘└─┬─┘ ║ └╥┘\n",
       "  m_0: |0>───────┼─────────┼────┼────┼─────────┼───╫────────┼───╫──╫─\n",
       "          ┌───┐  │         │    │    │         │   ║        │   ║  ║ \n",
       "  m_1: |0>┤ X ├──■─────────┼────┼────■─────────┼───╫────────┼───╫──╫─\n",
       "          └───┘┌─┴─┐       │    │              │   ║        │   ║  ║ \n",
       "sca_0: |0>─────┤ X ├───────■────┼──────────────■───╫────────┼───╫──╫─\n",
       "               └───┘     ┌─┴─┐  │                  ║        │   ║  ║ \n",
       "sca_1: |0>───────────────┤ X ├──■──────────────────╫────────■───╫──╫─\n",
       "                         └───┘┌─┴─┐                ║            ║  ║ \n",
       "sca_2: |0>────────────────────┤ X ├────────────────╫────────────╫──╫─\n",
       "                              └───┘                ║            ║  ║ \n",
       "   y_0: 0 ═════════════════════════════════════════╩════════════╬══╬═\n",
       "                                                                ║  ║ \n",
       "   y_1: 0 ══════════════════════════════════════════════════════╩══╬═\n",
       "                                                                   ║ \n",
       "   y_2: 0 ═════════════════════════════════════════════════════════╩═\n",
       "                                                                     </pre>"
      ],
      "text/plain": [
       "<qiskit.visualization.text.TextDrawing at 0x7f50bc421ac8>"
      ]
     },
     "execution_count": 18,
     "metadata": {},
     "output_type": "execute_result"
    }
   ],
   "source": [
    "# 6 - 1 = 5\n",
    "\"\"\"\n",
    "PASSED July 29 10:58am Pacific Time\n",
    "\"\"\"\n",
    "test_components = before_each_ripple_borrow_test()\n",
    "qc = test_components['qc']\n",
    "\n",
    "qc.x(n_reg[1])\n",
    "qc.x(n_reg[2])\n",
    "# qc.barrier()\n",
    "c_ripple_subtract(circuit=qc, min_reg=n_reg, control_bit=m_reg[True], scratch_reg=scratch_a, start_shifting_at=0)\n",
    "results = get_results_of_last_test()\n",
    "\n",
    "qc.draw()"
   ]
  },
  {
   "cell_type": "code",
   "execution_count": 19,
   "metadata": {
    "scrolled": true
   },
   "outputs": [
    {
     "name": "stdout",
     "output_type": "stream",
     "text": [
      "PASSING - {} 2019-07-30 14:27:30.569891\n"
     ]
    }
   ],
   "source": [
    "verify_results(expected='101')"
   ]
  },
  {
   "cell_type": "markdown",
   "metadata": {},
   "source": [
    "#### Case 5\n",
    "**Status:** Passing  \n",
    "**Expected Result:** `4`"
   ]
  },
  {
   "cell_type": "code",
   "execution_count": 20,
   "metadata": {
    "scrolled": true
   },
   "outputs": [],
   "source": [
    "# 5 - 1 = 4\n",
    "\"\"\"\n",
    "PASSED July 29 10:58am Pacific Time\n",
    "\"\"\"\n",
    "test_components = before_each_ripple_borrow_test()\n",
    "qc = test_components['qc']\n",
    "\n",
    "qc.x(n_reg[0])\n",
    "qc.x(n_reg[2])\n",
    "\n",
    "c_ripple_subtract(circuit=qc, min_reg=n_reg, control_bit=m_reg[True], scratch_reg=scratch_a, start_shifting_at=0)\n",
    "results = get_results_of_last_test()\n",
    "# qc.draw()"
   ]
  },
  {
   "cell_type": "code",
   "execution_count": 21,
   "metadata": {
    "scrolled": true
   },
   "outputs": [
    {
     "name": "stdout",
     "output_type": "stream",
     "text": [
      "PASSING - {} 2019-07-30 14:27:30.569891\n"
     ]
    }
   ],
   "source": [
    "verify_results(expected='100')"
   ]
  },
  {
   "cell_type": "markdown",
   "metadata": {},
   "source": [
    "#### Case 6\n",
    "**Status:** Passing  \n",
    "**Expected Result:** 3"
   ]
  },
  {
   "cell_type": "code",
   "execution_count": 22,
   "metadata": {
    "scrolled": true
   },
   "outputs": [],
   "source": [
    "# 5 - 2 = 3\n",
    "\"\"\"\n",
    "PASSED July 29 10:58am Pacific Time\n",
    "\"\"\"\n",
    "test_components = before_each_ripple_borrow_test()\n",
    "qc = test_components['qc']\n",
    "\n",
    "qc.x(n_reg[0])\n",
    "qc.x(n_reg[2])\n",
    "\n",
    "c_ripple_subtract(circuit=qc, min_reg=n_reg, control_bit=m_reg[True], scratch_reg=scratch_a, start_shifting_at=1)\n",
    "results = get_results_of_last_test()\n",
    "\n",
    "# qc.draw()"
   ]
  },
  {
   "cell_type": "code",
   "execution_count": 23,
   "metadata": {
    "scrolled": true
   },
   "outputs": [
    {
     "name": "stdout",
     "output_type": "stream",
     "text": [
      "PASSING - {} 2019-07-30 14:27:30.569891\n"
     ]
    }
   ],
   "source": [
    "verify_results(expected='011')"
   ]
  },
  {
   "cell_type": "markdown",
   "metadata": {},
   "source": [
    "#### Case 7\n",
    "**Status:** Passing  \n",
    "**Expected Result:** `5`"
   ]
  },
  {
   "cell_type": "code",
   "execution_count": 24,
   "metadata": {},
   "outputs": [],
   "source": [
    "# 7 - 2 = 5\n",
    "test_components = before_each_ripple_borrow_test()\n",
    "qc = test_components['qc']\n",
    "\n",
    "qc.x(n_reg[0])\n",
    "qc.x(n_reg[1])\n",
    "qc.x(n_reg[2])\n",
    "\n",
    "c_ripple_subtract(circuit=qc, min_reg=n_reg, control_bit=m_reg[True], scratch_reg=scratch_a, start_shifting_at=1)\n",
    "results = get_results_of_last_test()\n",
    "\n",
    "# qc.draw()"
   ]
  },
  {
   "cell_type": "code",
   "execution_count": 25,
   "metadata": {
    "scrolled": true
   },
   "outputs": [
    {
     "name": "stdout",
     "output_type": "stream",
     "text": [
      "PASSING - {} 2019-07-30 14:27:30.569891\n"
     ]
    }
   ],
   "source": [
    "verify_results(expected='101')"
   ]
  },
  {
   "cell_type": "markdown",
   "metadata": {},
   "source": [
    "#### Case 8\n",
    "**Status:** Passing  \n",
    "**Expected Result:** `7`"
   ]
  },
  {
   "cell_type": "code",
   "execution_count": 10,
   "metadata": {
    "scrolled": true
   },
   "outputs": [
    {
     "data": {
      "text/html": [
       "<pre style=\"word-wrap: normal;white-space: pre;line-height: 15px;\">          ┌───┐ ░ ┌─┐                                         \n",
       "  n_0: |0>┤ X ├─░─┤M├─────────────────────────────────────────\n",
       "          ├───┤ ░ └╥┘┌───┐     ┌───┐┌───┐          ┌───┐┌─┐   \n",
       "  n_1: |0>┤ X ├─░──╫─┤ X ├──■──┤ X ├┤ X ├──────────┤ X ├┤M├───\n",
       "          ├───┤ ░  ║ ├───┤  │  └───┘└─┬─┘┌───┐┌───┐└─┬─┘└╥┘┌─┐\n",
       "  n_2: |0>┤ X ├─░──╫─┤ X ├──┼────■────┼──┤ X ├┤ X ├──┼───╫─┤M├\n",
       "          └───┘ ░  ║ └───┘  │    │    │  └───┘└─┬─┘  │   ║ └╥┘\n",
       "  m_0: |0>──────░──╫────────■────┼────┼─────────┼────■───╫──╫─\n",
       "          ┌───┐ ░  ║        │    │    │         │        ║  ║ \n",
       "  m_1: |0>┤ X ├─░──╫────────┼────┼────┼─────────┼────────╫──╫─\n",
       "          └───┘ ░  ║        │    │    │         │        ║  ║ \n",
       "sca_0: |0>──────░──╫────────┼────┼────■─────────┼────────╫──╫─\n",
       "                ░  ║      ┌─┴─┐  │              │        ║  ║ \n",
       "sca_1: |0>──────░──╫──────┤ X ├──■──────────────■────────╫──╫─\n",
       "                ░  ║      └───┘┌─┴─┐                     ║  ║ \n",
       "sca_2: |0>──────░──╫───────────┤ X ├─────────────────────╫──╫─\n",
       "                ░  ║           └───┘                     ║  ║ \n",
       "   y_0: 0 ═════════╩═════════════════════════════════════╬══╬═\n",
       "                                                         ║  ║ \n",
       "   y_1: 0 ═══════════════════════════════════════════════╩══╬═\n",
       "                                                            ║ \n",
       "   y_2: 0 ══════════════════════════════════════════════════╩═\n",
       "                                                              </pre>"
      ],
      "text/plain": [
       "<qiskit.visualization.text.TextDrawing at 0x7f3ee669c400>"
      ]
     },
     "execution_count": 10,
     "metadata": {},
     "output_type": "execute_result"
    }
   ],
   "source": [
    "# NO-OP(7) = 7\n",
    "test_components = before_each_ripple_borrow_test()\n",
    "qc = test_components['qc']\n",
    "\n",
    "qc.x(n_reg[0])\n",
    "qc.x(n_reg[1])\n",
    "qc.x(n_reg[2])\n",
    "qc.barrier()\n",
    "c_ripple_subtract(circuit=qc, min_reg=n_reg, control_bit=m_reg[False], scratch_reg=scratch_a, start_shifting_at=1)\n",
    "results = get_results_of_last_test()\n",
    "\n",
    "qc.draw()"
   ]
  },
  {
   "cell_type": "code",
   "execution_count": 11,
   "metadata": {
    "scrolled": false
   },
   "outputs": [
    {
     "name": "stdout",
     "output_type": "stream",
     "text": [
      "PASSING - {} 2019-07-30 22:01:35.855555\n"
     ]
    }
   ],
   "source": [
    "verify_results(expected='111')"
   ]
  },
  {
   "cell_type": "markdown",
   "metadata": {},
   "source": [
    "## Invertibility  \n",
    "Test whether an underflow can easily be reset to last valid state."
   ]
  },
  {
   "cell_type": "markdown",
   "metadata": {},
   "source": [
    "#### Case 1\n",
    "**Status:** PASSING  \n",
    "**Expected Output**: `1`"
   ]
  },
  {
   "cell_type": "code",
   "execution_count": 5,
   "metadata": {
    "scrolled": true
   },
   "outputs": [
    {
     "data": {
      "text/html": [
       "<pre style=\"word-wrap: normal;white-space: pre;line-height: 15px;\">               ┌───┐                     ░           ┌─┐                       »\n",
       "  n_0: |0>─────┤ X ├─────────────────────░───────────┤M├───────────────────────»\n",
       "          ┌───┐└───┘                     ░      ┌───┐└╥┘     ┌─┐               »\n",
       "  n_1: |0>┤ X ├──────────────────────────░──────┤ X ├─╫──────┤M├───────────────»\n",
       "          └─┬─┘┌───┐     ┌───┐┌───┐┌───┐ ░ ┌───┐└─┬─┘ ║ ┌───┐└╥┘┌───┐     ┌───┐»\n",
       "  n_2: |0>──┼──┤ X ├──■──┤ X ├┤ X ├┤ X ├─░─┤ X ├──┼───╫─┤ X ├─╫─┤ X ├──■──┤ X ├»\n",
       "            │  └───┘  │  └───┘└─┬─┘└─┬─┘ ░ └─┬─┘  │   ║ └─┬─┘ ║ └───┘  │  └───┘»\n",
       "  m_0: |0>──┼─────────┼─────────┼────┼───░───┼────┼───╫───┼───╫────────┼───────»\n",
       "            │  ┌───┐  │         │    │   ░   │    │   ║   │   ║        │       »\n",
       "  m_1: |0>──┼──┤ X ├──■─────────┼────■───░───■────┼───╫───┼───╫────────■───────»\n",
       "            │  └───┘  │         │        ░        │   ║   │   ║        │       »\n",
       "sca_0: |0>──■─────────┼─────────┼────────░────────■───╫───┼───╫────────┼───────»\n",
       "                      │         │        ░            ║   │   ║        │       »\n",
       "sca_1: |0>────────────┼─────────■────────░────────────╫───■───╫────────┼───────»\n",
       "                    ┌─┴─┐                ░            ║       ║      ┌─┴─┐     »\n",
       "sca_2: |0>──────────┤ X ├────────────────░────────────╫───────╫──────┤ X ├─────»\n",
       "                    └───┘                ░            ║       ║      └───┘     »\n",
       "   y_0: 0 ════════════════════════════════════════════╩═══════╬════════════════»\n",
       "                                                              ║                »\n",
       "   y_1: 0 ════════════════════════════════════════════════════╩════════════════»\n",
       "                                                                               »\n",
       "   y_2: 0 ═════════════════════════════════════════════════════════════════════»\n",
       "                                                                               »\n",
       "«          \n",
       "«  n_0: ───\n",
       "«          \n",
       "«  n_1: ───\n",
       "«       ┌─┐\n",
       "«  n_2: ┤M├\n",
       "«       └╥┘\n",
       "«  m_0: ─╫─\n",
       "«        ║ \n",
       "«  m_1: ─╫─\n",
       "«        ║ \n",
       "«sca_0: ─╫─\n",
       "«        ║ \n",
       "«sca_1: ─╫─\n",
       "«        ║ \n",
       "«sca_2: ─╫─\n",
       "«        ║ \n",
       "«  y_0: ═╬═\n",
       "«        ║ \n",
       "«  y_1: ═╬═\n",
       "«        ║ \n",
       "«  y_2: ═╩═\n",
       "«          </pre>"
      ],
      "text/plain": [
       "<qiskit.visualization.text.TextDrawing at 0x7f2d004a99e8>"
      ]
     },
     "execution_count": 5,
     "metadata": {},
     "output_type": "execute_result"
    }
   ],
   "source": [
    "# 1 - 2 + 2 = ?\n",
    "test_components = before_each_ripple_borrow_test()\n",
    "qc = test_components['qc']\n",
    "qc.x(n_reg[0])\n",
    "\n",
    "c_ripple_subtract(circuit=qc, min_reg=n_reg, control_bit=m_reg[True], scratch_reg=scratch_a, start_shifting_at=2)\n",
    "# ripple_carry_bits(circuit=qc, acc_reg=n_reg, control_bit=m_reg[True], scratch_reg=scratch_a, start_shifting_at=1)\n",
    "qc.barrier()\n",
    "undo_ripple_borrow(circuit=qc, min_reg=n_reg, control_bit=m_reg[True], scratch_reg=scratch_a, start_shifting_at=2)\n",
    "\n",
    "results = get_results_of_last_test()\n",
    "qc.draw()\n",
    "# print(results)"
   ]
  },
  {
   "cell_type": "code",
   "execution_count": 7,
   "metadata": {},
   "outputs": [
    {
     "name": "stdout",
     "output_type": "stream",
     "text": [
      "PASSING - {} 2019-08-01 17:05:58.624490\n"
     ]
    }
   ],
   "source": [
    "verify_results('001')"
   ]
  },
  {
   "cell_type": "markdown",
   "metadata": {},
   "source": [
    "#### Case 2\n",
    "**Expected Output:** `0`"
   ]
  },
  {
   "cell_type": "code",
   "execution_count": 8,
   "metadata": {
    "scrolled": true
   },
   "outputs": [
    {
     "data": {
      "text/html": [
       "<pre style=\"word-wrap: normal;white-space: pre;line-height: 15px;\">                                         ░           ┌─┐                       »\n",
       "  n_0: |0>───────────────────────────────░───────────┤M├───────────────────────»\n",
       "          ┌───┐                          ░      ┌───┐└╥┘     ┌─┐               »\n",
       "  n_1: |0>┤ X ├──────────────────────────░──────┤ X ├─╫──────┤M├───────────────»\n",
       "          └─┬─┘┌───┐     ┌───┐┌───┐┌───┐ ░ ┌───┐└─┬─┘ ║ ┌───┐└╥┘┌───┐     ┌───┐»\n",
       "  n_2: |0>──┼──┤ X ├──■──┤ X ├┤ X ├┤ X ├─░─┤ X ├──┼───╫─┤ X ├─╫─┤ X ├──■──┤ X ├»\n",
       "            │  └───┘  │  └───┘└─┬─┘└─┬─┘ ░ └─┬─┘  │   ║ └─┬─┘ ║ └───┘  │  └───┘»\n",
       "  m_0: |0>──┼─────────┼─────────┼────┼───░───┼────┼───╫───┼───╫────────┼───────»\n",
       "            │  ┌───┐  │         │    │   ░   │    │   ║   │   ║        │       »\n",
       "  m_1: |0>──┼──┤ X ├──■─────────┼────■───░───■────┼───╫───┼───╫────────■───────»\n",
       "            │  └───┘  │         │        ░        │   ║   │   ║        │       »\n",
       "sca_0: |0>──■─────────┼─────────┼────────░────────■───╫───┼───╫────────┼───────»\n",
       "                      │         │        ░            ║   │   ║        │       »\n",
       "sca_1: |0>────────────┼─────────■────────░────────────╫───■───╫────────┼───────»\n",
       "                    ┌─┴─┐                ░            ║       ║      ┌─┴─┐     »\n",
       "sca_2: |0>──────────┤ X ├────────────────░────────────╫───────╫──────┤ X ├─────»\n",
       "                    └───┘                ░            ║       ║      └───┘     »\n",
       "   y_0: 0 ════════════════════════════════════════════╩═══════╬════════════════»\n",
       "                                                              ║                »\n",
       "   y_1: 0 ════════════════════════════════════════════════════╩════════════════»\n",
       "                                                                               »\n",
       "   y_2: 0 ═════════════════════════════════════════════════════════════════════»\n",
       "                                                                               »\n",
       "«          \n",
       "«  n_0: ───\n",
       "«          \n",
       "«  n_1: ───\n",
       "«       ┌─┐\n",
       "«  n_2: ┤M├\n",
       "«       └╥┘\n",
       "«  m_0: ─╫─\n",
       "«        ║ \n",
       "«  m_1: ─╫─\n",
       "«        ║ \n",
       "«sca_0: ─╫─\n",
       "«        ║ \n",
       "«sca_1: ─╫─\n",
       "«        ║ \n",
       "«sca_2: ─╫─\n",
       "«        ║ \n",
       "«  y_0: ═╬═\n",
       "«        ║ \n",
       "«  y_1: ═╬═\n",
       "«        ║ \n",
       "«  y_2: ═╩═\n",
       "«          </pre>"
      ],
      "text/plain": [
       "<qiskit.visualization.text.TextDrawing at 0x7f2cdf0c4f28>"
      ]
     },
     "execution_count": 8,
     "metadata": {},
     "output_type": "execute_result"
    }
   ],
   "source": [
    "# 0 - 2 + 2 = ?\n",
    "test_components = before_each_ripple_borrow_test()\n",
    "qc = test_components['qc']\n",
    "\n",
    "c_ripple_subtract(circuit=qc, min_reg=n_reg, control_bit=m_reg[True], scratch_reg=scratch_a, start_shifting_at=2)\n",
    "# ripple_carry_bits(circuit=qc, acc_reg=n_reg, control_bit=m_reg[True], scratch_reg=scratch_a, start_shifting_at=1)\n",
    "qc.barrier()\n",
    "undo_ripple_borrow(circuit=qc, min_reg=n_reg, control_bit=m_reg[True], scratch_reg=scratch_a, start_shifting_at=2)\n",
    "\n",
    "results = get_results_of_last_test()\n",
    "qc.draw()\n",
    "# print(results)"
   ]
  },
  {
   "cell_type": "code",
   "execution_count": 9,
   "metadata": {},
   "outputs": [
    {
     "name": "stdout",
     "output_type": "stream",
     "text": [
      "PASSING - {} 2019-08-01 17:05:58.624490\n"
     ]
    }
   ],
   "source": [
    "verify_results('000')"
   ]
  },
  {
   "cell_type": "code",
   "execution_count": null,
   "metadata": {},
   "outputs": [],
   "source": [
    "def sub_once_mod(circuit, )"
   ]
  },
  {
   "cell_type": "markdown",
   "metadata": {},
   "source": [
    "## Full Subtraction"
   ]
  },
  {
   "cell_type": "markdown",
   "metadata": {},
   "source": [
    "### Setup"
   ]
  },
  {
   "cell_type": "code",
   "execution_count": 3,
   "metadata": {},
   "outputs": [],
   "source": [
    "# global n_reg\n",
    "# global m_reg\n",
    "# global scratch_a\n",
    "# global class_reg\n",
    "# global backend\n",
    "# global qc\n",
    "# global test_timestamp\n",
    "\n",
    "# def before_tests():\n",
    "n_reg = QuantumRegister(3, 'n')\n",
    "m_reg = QuantumRegister(2, 'm')\n",
    "scratch_reg = QuantumRegister(3, 'sca')\n",
    "class_reg = ClassicalRegister(3, 'y')\n",
    "qc = QuantumCircuit(n_reg, m_reg, scratch_reg, class_reg)\n",
    "\n",
    "backend = Aer.get_backend('qasm_simulator')\n",
    "test_timestamp = str(datetime.now())\n",
    "\n",
    "from ArithmaticFunctions import *"
   ]
  },
  {
   "cell_type": "code",
   "execution_count": 4,
   "metadata": {},
   "outputs": [],
   "source": [
    "def before_each_subtraction_test():\n",
    "    n_reg = QuantumRegister(3, 'n')\n",
    "    m_reg = QuantumRegister(3, 'm')\n",
    "    scratch_reg = QuantumRegister(3, 'sca')\n",
    "    qc = QuantumCircuit(n_reg, m_reg, scratch_reg, class_reg)\n",
    "    \n",
    "    return {'n_reg': n_reg, 'm_reg': m_reg, 'scratch_reg': scratch_reg, 'class_reg': class_reg, 'qc': qc }"
   ]
  },
  {
   "cell_type": "markdown",
   "metadata": {},
   "source": [
    "### Case 1\n",
    "**1 - 0 = 1**  \n",
    "**Expected Output:** `1`"
   ]
  },
  {
   "cell_type": "code",
   "execution_count": 5,
   "metadata": {
    "scrolled": true
   },
   "outputs": [],
   "source": [
    "test_components = before_each_subtraction_test()\n",
    "qc = test_components['qc']\n",
    "\n",
    "# Set n_reg to 00...1\n",
    "qc.x(n_reg[0])\n",
    "# m_reg is | 0 >\n",
    "\n",
    "sub_b_from_a_in_place(circuit=qc,\n",
    "                      minnd_reg=test_components['n_reg'],\n",
    "                      subtrhnd_reg=test_components['m_reg'],\n",
    "                      scratch_reg=test_components['scratch_reg'])\n",
    "\n",
    "results = get_results_of_last_test()\n",
    "# qc.draw()\n",
    "# print(results)"
   ]
  },
  {
   "cell_type": "code",
   "execution_count": 6,
   "metadata": {},
   "outputs": [
    {
     "name": "stdout",
     "output_type": "stream",
     "text": [
      "PASSING - {} 2019-08-05 13:38:03.037451\n"
     ]
    }
   ],
   "source": [
    "verify_results('001')"
   ]
  },
  {
   "cell_type": "markdown",
   "metadata": {},
   "source": [
    "### Case 2\n",
    "**1 - 1 = 0**  \n",
    "**Expected Output:** `0`"
   ]
  },
  {
   "cell_type": "code",
   "execution_count": 7,
   "metadata": {
    "scrolled": false
   },
   "outputs": [
    {
     "data": {
      "text/html": [
       "<pre style=\"word-wrap: normal;white-space: pre;line-height: 15px;\">          ┌───┐ ░ ┌───┐     ┌───┐     ┌───┐          ┌─┐                    »\n",
       "  n_0: |0>┤ X ├─░─┤ X ├──■──┤ X ├─────┤ X ├──────────┤M├────────────────────»\n",
       "          └───┘ ░ ├───┤  │  └───┘     └─┬─┘┌───┐┌───┐└╥┘          ┌───┐     »\n",
       "  n_1: |0>──────░─┤ X ├──┼────■─────────┼──┤ X ├┤ X ├─╫───────────┤ X ├─────»\n",
       "                ░ ├───┤  │    │         │  └───┘└─┬─┘ ║ ┌───┐┌───┐└───┘┌───┐»\n",
       "  n_2: |0>──────░─┤ X ├──┼────┼────■────┼─────────┼───╫─┤ X ├┤ X ├─────┤ X ├»\n",
       "          ┌───┐ ░ └───┘  │    │    │    │         │   ║ └───┘└─┬─┘     └───┘»\n",
       "  m_0: |0>┤ X ├─░────────■────┼────┼────■─────────┼───╫────────┼────────────»\n",
       "          └───┘ ░        │    │    │              │   ║        │            »\n",
       "  m_1: |0>──────░────────┼────┼────┼──────────────┼───╫────────┼────────────»\n",
       "                ░        │    │    │              │   ║        │            »\n",
       "  m_2: |0>──────░────────┼────┼────┼──────────────┼───╫────────┼────────────»\n",
       "                ░      ┌─┴─┐  │    │              │   ║        │            »\n",
       "sca_0: |0>──────░──|0>─┤ X ├──■────┼──────────────■───╫────────┼───|0>──────»\n",
       "                ░      └───┘┌─┴─┐  │                  ║        │            »\n",
       "sca_1: |0>──────░──|0>──────┤ X ├──■──────────────────╫────────■────────|0>─»\n",
       "                ░           └───┘┌─┴─┐                ║                     »\n",
       "sca_2: |0>──────░──|0>───────────┤ X ├────────────────╫──|0>────────────────»\n",
       "                ░                └───┘                ║                     »\n",
       "   y_0: 0 ════════════════════════════════════════════╩═════════════════════»\n",
       "                                                                            »\n",
       "   y_1: 0 ══════════════════════════════════════════════════════════════════»\n",
       "                                                                            »\n",
       "   y_2: 0 ══════════════════════════════════════════════════════════════════»\n",
       "                                                                            »\n",
       "«                                                                              \n",
       "«  n_0: ───────────────────────────────────────────────────────────────────────\n",
       "«            ┌───┐┌───┐          ┌───┐     ┌───┐          ┌─┐                  \n",
       "«  n_1: ──■──┤ X ├┤ X ├──────────┤ X ├─────┤ X ├──────────┤M├──────────────────\n",
       "«         │  └───┘└─┬─┘┌───┐┌───┐└─┬─┘     └─┬─┘┌───┐     └╥┘┌───┐┌───┐┌───┐┌─┐\n",
       "«  n_2: ──┼────■────┼──┤ X ├┤ X ├──┼─────────┼──┤ X ├──■───╫─┤ X ├┤ X ├┤ X ├┤M├\n",
       "«         │    │    │  └───┘└─┬─┘  │         │  └───┘  │   ║ └───┘└─┬─┘└─┬─┘└╥┘\n",
       "«  m_0: ──┼────┼────┼─────────┼────┼─────────┼─────────┼───╫────────┼────┼───╫─\n",
       "«         │    │    │         │    │         │         │   ║        │    │   ║ \n",
       "«  m_1: ──■────┼────┼─────────┼────■─────────┼─────────┼───╫────────┼────┼───╫─\n",
       "«         │    │    │         │              │         │   ║        │    │   ║ \n",
       "«  m_2: ──┼────┼────┼─────────┼──────────────┼─────────■───╫────────┼────■───╫─\n",
       "«         │    │    │         │              │         │   ║        │        ║ \n",
       "«sca_0: ──┼────┼────■─────────┼────────|0>───■─────────┼───╫────────┼────────╫─\n",
       "«       ┌─┴─┐  │              │                        │   ║        │        ║ \n",
       "«sca_1: ┤ X ├──■──────────────■──────────────────|0>───┼───╫────────■────────╫─\n",
       "«       └───┘┌─┴─┐                                   ┌─┴─┐ ║                 ║ \n",
       "«sca_2: ─────┤ X ├──────|0>──────────────────────────┤ X ├─╫─────────────────╫─\n",
       "«            └───┘                                   └───┘ ║                 ║ \n",
       "«  y_0: ═══════════════════════════════════════════════════╬═════════════════╬═\n",
       "«                                                          ║                 ║ \n",
       "«  y_1: ═══════════════════════════════════════════════════╩═════════════════╬═\n",
       "«                                                                            ║ \n",
       "«  y_2: ═════════════════════════════════════════════════════════════════════╩═\n",
       "«                                                                              </pre>"
      ],
      "text/plain": [
       "<qiskit.visualization.text.TextDrawing at 0x7f04ce68bda0>"
      ]
     },
     "execution_count": 7,
     "metadata": {},
     "output_type": "execute_result"
    }
   ],
   "source": [
    "# Get test components\n",
    "comps = before_each_subtraction_test()\n",
    "qc = comps['qc']\n",
    "\n",
    "# Set n_reg to 00...1\n",
    "qc.x(comps['n_reg'][0])\n",
    "# Set m_reg to 00...1\n",
    "qc.x(comps['m_reg'][0])\n",
    "qc.barrier()\n",
    "\n",
    "sub_b_from_a_in_place(circuit=qc,\n",
    "                      minnd_reg=comps['n_reg'],\n",
    "                      subtrhnd_reg=comps['m_reg'],\n",
    "                      scratch_reg=comps['scratch_reg'])\n",
    "\n",
    "results = get_results_of_last_test()\n",
    "qc.draw()\n",
    "# print(results)"
   ]
  },
  {
   "cell_type": "code",
   "execution_count": 8,
   "metadata": {},
   "outputs": [
    {
     "name": "stdout",
     "output_type": "stream",
     "text": [
      "PASSING - {} 2019-08-05 13:38:03.037451\n"
     ]
    }
   ],
   "source": [
    "verify_results('000')"
   ]
  },
  {
   "cell_type": "markdown",
   "metadata": {},
   "source": [
    "### Case 3\n",
    "**6 - 3 = 3**  \n",
    "**Expected Output:** `3`"
   ]
  },
  {
   "cell_type": "code",
   "execution_count": 9,
   "metadata": {
    "scrolled": false
   },
   "outputs": [
    {
     "data": {
      "text/html": [
       "<pre style=\"word-wrap: normal;white-space: pre;line-height: 15px;\">                ░ ┌───┐     ┌───┐     ┌───┐          ┌─┐                    »\n",
       "  n_0: |0>──────░─┤ X ├──■──┤ X ├─────┤ X ├──────────┤M├────────────────────»\n",
       "          ┌───┐ ░ ├───┤  │  └───┘     └─┬─┘┌───┐┌───┐└╥┘          ┌───┐     »\n",
       "  n_1: |0>┤ X ├─░─┤ X ├──┼────■─────────┼──┤ X ├┤ X ├─╫───────────┤ X ├─────»\n",
       "          ├───┤ ░ ├───┤  │    │         │  └───┘└─┬─┘ ║ ┌───┐┌───┐└───┘┌───┐»\n",
       "  n_2: |0>┤ X ├─░─┤ X ├──┼────┼────■────┼─────────┼───╫─┤ X ├┤ X ├─────┤ X ├»\n",
       "          ├───┤ ░ └───┘  │    │    │    │         │   ║ └───┘└─┬─┘     └───┘»\n",
       "  m_0: |0>┤ X ├─░────────■────┼────┼────■─────────┼───╫────────┼────────────»\n",
       "          ├───┤ ░        │    │    │              │   ║        │            »\n",
       "  m_1: |0>┤ X ├─░────────┼────┼────┼──────────────┼───╫────────┼────────────»\n",
       "          └───┘ ░        │    │    │              │   ║        │            »\n",
       "  m_2: |0>──────░────────┼────┼────┼──────────────┼───╫────────┼────────────»\n",
       "                ░      ┌─┴─┐  │    │              │   ║        │            »\n",
       "sca_0: |0>──────░──|0>─┤ X ├──■────┼──────────────■───╫────────┼───|0>──────»\n",
       "                ░      └───┘┌─┴─┐  │                  ║        │            »\n",
       "sca_1: |0>──────░──|0>──────┤ X ├──■──────────────────╫────────■────────|0>─»\n",
       "                ░           └───┘┌─┴─┐                ║                     »\n",
       "sca_2: |0>──────░──|0>───────────┤ X ├────────────────╫──|0>────────────────»\n",
       "                ░                └───┘                ║                     »\n",
       "   y_0: 0 ════════════════════════════════════════════╩═════════════════════»\n",
       "                                                                            »\n",
       "   y_1: 0 ══════════════════════════════════════════════════════════════════»\n",
       "                                                                            »\n",
       "   y_2: 0 ══════════════════════════════════════════════════════════════════»\n",
       "                                                                            »\n",
       "«                                                                              \n",
       "«  n_0: ───────────────────────────────────────────────────────────────────────\n",
       "«            ┌───┐┌───┐          ┌───┐     ┌───┐          ┌─┐                  \n",
       "«  n_1: ──■──┤ X ├┤ X ├──────────┤ X ├─────┤ X ├──────────┤M├──────────────────\n",
       "«         │  └───┘└─┬─┘┌───┐┌───┐└─┬─┘     └─┬─┘┌───┐     └╥┘┌───┐┌───┐┌───┐┌─┐\n",
       "«  n_2: ──┼────■────┼──┤ X ├┤ X ├──┼─────────┼──┤ X ├──■───╫─┤ X ├┤ X ├┤ X ├┤M├\n",
       "«         │    │    │  └───┘└─┬─┘  │         │  └───┘  │   ║ └───┘└─┬─┘└─┬─┘└╥┘\n",
       "«  m_0: ──┼────┼────┼─────────┼────┼─────────┼─────────┼───╫────────┼────┼───╫─\n",
       "«         │    │    │         │    │         │         │   ║        │    │   ║ \n",
       "«  m_1: ──■────┼────┼─────────┼────■─────────┼─────────┼───╫────────┼────┼───╫─\n",
       "«         │    │    │         │              │         │   ║        │    │   ║ \n",
       "«  m_2: ──┼────┼────┼─────────┼──────────────┼─────────■───╫────────┼────■───╫─\n",
       "«         │    │    │         │              │         │   ║        │        ║ \n",
       "«sca_0: ──┼────┼────■─────────┼────────|0>───■─────────┼───╫────────┼────────╫─\n",
       "«       ┌─┴─┐  │              │                        │   ║        │        ║ \n",
       "«sca_1: ┤ X ├──■──────────────■──────────────────|0>───┼───╫────────■────────╫─\n",
       "«       └───┘┌─┴─┐                                   ┌─┴─┐ ║                 ║ \n",
       "«sca_2: ─────┤ X ├──────|0>──────────────────────────┤ X ├─╫─────────────────╫─\n",
       "«            └───┘                                   └───┘ ║                 ║ \n",
       "«  y_0: ═══════════════════════════════════════════════════╬═════════════════╬═\n",
       "«                                                          ║                 ║ \n",
       "«  y_1: ═══════════════════════════════════════════════════╩═════════════════╬═\n",
       "«                                                                            ║ \n",
       "«  y_2: ═════════════════════════════════════════════════════════════════════╩═\n",
       "«                                                                              </pre>"
      ],
      "text/plain": [
       "<qiskit.visualization.text.TextDrawing at 0x7f04ce65f240>"
      ]
     },
     "execution_count": 9,
     "metadata": {},
     "output_type": "execute_result"
    }
   ],
   "source": [
    "# Get test components\n",
    "comps = before_each_subtraction_test()\n",
    "qc = comps['qc']\n",
    "\n",
    "# Set n_reg to ...110\n",
    "qc.x(comps['n_reg'][1])\n",
    "qc.x(comps['n_reg'][2])\n",
    "# Set m_reg to ...011\n",
    "qc.x(comps['m_reg'][0])\n",
    "qc.x(comps['m_reg'][1])\n",
    "\n",
    "qc.barrier()\n",
    "sub_b_from_a_in_place(circuit=qc,\n",
    "                      minnd_reg=comps['n_reg'],\n",
    "                      subtrhnd_reg=comps['m_reg'],\n",
    "                      scratch_reg=comps['scratch_reg'])\n",
    "\n",
    "results = get_results_of_last_test()\n",
    "qc.draw()\n",
    "# print(results)"
   ]
  },
  {
   "cell_type": "code",
   "execution_count": 10,
   "metadata": {},
   "outputs": [
    {
     "name": "stdout",
     "output_type": "stream",
     "text": [
      "PASSING - {} 2019-08-05 13:38:03.037451\n"
     ]
    }
   ],
   "source": [
    "verify_results('011')"
   ]
  },
  {
   "cell_type": "markdown",
   "metadata": {},
   "source": [
    "### Case 4\n",
    "**REMOVED**  \n",
    "_Perhaps should be absent, but I don't want to renumber_"
   ]
  },
  {
   "cell_type": "code",
   "execution_count": null,
   "metadata": {},
   "outputs": [],
   "source": [
    "verify_results('011')"
   ]
  },
  {
   "cell_type": "markdown",
   "metadata": {},
   "source": [
    "### Case 5\n",
    "**2 - 1 = 1**  \n",
    "**Expected Output:** `1`"
   ]
  },
  {
   "cell_type": "code",
   "execution_count": 11,
   "metadata": {},
   "outputs": [
    {
     "data": {
      "text/html": [
       "<pre style=\"word-wrap: normal;white-space: pre;line-height: 15px;\">                ░ ┌───┐     ┌───┐     ┌───┐          ┌─┐                    »\n",
       "  n_0: |0>──────░─┤ X ├──■──┤ X ├─────┤ X ├──────────┤M├────────────────────»\n",
       "          ┌───┐ ░ ├───┤  │  └───┘     └─┬─┘┌───┐┌───┐└╥┘          ┌───┐     »\n",
       "  n_1: |0>┤ X ├─░─┤ X ├──┼────■─────────┼──┤ X ├┤ X ├─╫───────────┤ X ├─────»\n",
       "          └───┘ ░ ├───┤  │    │         │  └───┘└─┬─┘ ║ ┌───┐┌───┐└───┘┌───┐»\n",
       "  n_2: |0>──────░─┤ X ├──┼────┼────■────┼─────────┼───╫─┤ X ├┤ X ├─────┤ X ├»\n",
       "          ┌───┐ ░ └───┘  │    │    │    │         │   ║ └───┘└─┬─┘     └───┘»\n",
       "  m_0: |0>┤ X ├─░────────■────┼────┼────■─────────┼───╫────────┼────────────»\n",
       "          └───┘ ░        │    │    │              │   ║        │            »\n",
       "  m_1: |0>──────░────────┼────┼────┼──────────────┼───╫────────┼────────────»\n",
       "                ░        │    │    │              │   ║        │            »\n",
       "  m_2: |0>──────░────────┼────┼────┼──────────────┼───╫────────┼────────────»\n",
       "                ░      ┌─┴─┐  │    │              │   ║        │            »\n",
       "sca_0: |0>──────░──|0>─┤ X ├──■────┼──────────────■───╫────────┼───|0>──────»\n",
       "                ░      └───┘┌─┴─┐  │                  ║        │            »\n",
       "sca_1: |0>──────░──|0>──────┤ X ├──■──────────────────╫────────■────────|0>─»\n",
       "                ░           └───┘┌─┴─┐                ║                     »\n",
       "sca_2: |0>──────░──|0>───────────┤ X ├────────────────╫──|0>────────────────»\n",
       "                ░                └───┘                ║                     »\n",
       "   y_0: 0 ════════════════════════════════════════════╩═════════════════════»\n",
       "                                                                            »\n",
       "   y_1: 0 ══════════════════════════════════════════════════════════════════»\n",
       "                                                                            »\n",
       "   y_2: 0 ══════════════════════════════════════════════════════════════════»\n",
       "                                                                            »\n",
       "«                                                                              \n",
       "«  n_0: ───────────────────────────────────────────────────────────────────────\n",
       "«            ┌───┐┌───┐          ┌───┐     ┌───┐          ┌─┐                  \n",
       "«  n_1: ──■──┤ X ├┤ X ├──────────┤ X ├─────┤ X ├──────────┤M├──────────────────\n",
       "«         │  └───┘└─┬─┘┌───┐┌───┐└─┬─┘     └─┬─┘┌───┐     └╥┘┌───┐┌───┐┌───┐┌─┐\n",
       "«  n_2: ──┼────■────┼──┤ X ├┤ X ├──┼─────────┼──┤ X ├──■───╫─┤ X ├┤ X ├┤ X ├┤M├\n",
       "«         │    │    │  └───┘└─┬─┘  │         │  └───┘  │   ║ └───┘└─┬─┘└─┬─┘└╥┘\n",
       "«  m_0: ──┼────┼────┼─────────┼────┼─────────┼─────────┼───╫────────┼────┼───╫─\n",
       "«         │    │    │         │    │         │         │   ║        │    │   ║ \n",
       "«  m_1: ──■────┼────┼─────────┼────■─────────┼─────────┼───╫────────┼────┼───╫─\n",
       "«         │    │    │         │              │         │   ║        │    │   ║ \n",
       "«  m_2: ──┼────┼────┼─────────┼──────────────┼─────────■───╫────────┼────■───╫─\n",
       "«         │    │    │         │              │         │   ║        │        ║ \n",
       "«sca_0: ──┼────┼────■─────────┼────────|0>───■─────────┼───╫────────┼────────╫─\n",
       "«       ┌─┴─┐  │              │                        │   ║        │        ║ \n",
       "«sca_1: ┤ X ├──■──────────────■──────────────────|0>───┼───╫────────■────────╫─\n",
       "«       └───┘┌─┴─┐                                   ┌─┴─┐ ║                 ║ \n",
       "«sca_2: ─────┤ X ├──────|0>──────────────────────────┤ X ├─╫─────────────────╫─\n",
       "«            └───┘                                   └───┘ ║                 ║ \n",
       "«  y_0: ═══════════════════════════════════════════════════╬═════════════════╬═\n",
       "«                                                          ║                 ║ \n",
       "«  y_1: ═══════════════════════════════════════════════════╩═════════════════╬═\n",
       "«                                                                            ║ \n",
       "«  y_2: ═════════════════════════════════════════════════════════════════════╩═\n",
       "«                                                                              </pre>"
      ],
      "text/plain": [
       "<qiskit.visualization.text.TextDrawing at 0x7f04e90434a8>"
      ]
     },
     "execution_count": 11,
     "metadata": {},
     "output_type": "execute_result"
    }
   ],
   "source": [
    "# Get test components\n",
    "comps = before_each_subtraction_test()\n",
    "qc = comps['qc']\n",
    "\n",
    "# Set n_reg to ...10\n",
    "qc.x(comps['n_reg'][1])\n",
    "# Set m_reg to ...01\n",
    "qc.x(comps['m_reg'][0])\n",
    "\n",
    "qc.barrier()\n",
    "sub_b_from_a_in_place(circuit=qc,\n",
    "                      minnd_reg=comps['n_reg'],\n",
    "                      subtrhnd_reg=comps['m_reg'],\n",
    "                      scratch_reg=comps['scratch_reg'])\n",
    "\n",
    "results = get_results_of_last_test()\n",
    "qc.draw()\n",
    "# print(results)"
   ]
  },
  {
   "cell_type": "code",
   "execution_count": 12,
   "metadata": {},
   "outputs": [
    {
     "name": "stdout",
     "output_type": "stream",
     "text": [
      "PASSING - {} 2019-08-05 13:38:03.037451\n"
     ]
    }
   ],
   "source": [
    "verify_results('001')"
   ]
  },
  {
   "cell_type": "markdown",
   "metadata": {},
   "source": [
    "### Case 6\n",
    "**3 - 3 = 0**  \n",
    "**Expected Output:** `0`"
   ]
  },
  {
   "cell_type": "code",
   "execution_count": 13,
   "metadata": {},
   "outputs": [],
   "source": [
    "# Get test components\n",
    "comps = before_each_subtraction_test()\n",
    "qc = comps['qc']\n",
    "\n",
    "# Set n_reg to ...110\n",
    "qc.x(comps['n_reg'][0])\n",
    "qc.x(comps['n_reg'][1])\n",
    "# Set m_reg to ...011\n",
    "qc.x(comps['m_reg'][0])\n",
    "qc.x(comps['m_reg'][1])\n",
    "\n",
    "qc.barrier()\n",
    "sub_b_from_a_in_place(circuit=qc,\n",
    "                      minnd_reg=comps['n_reg'],\n",
    "                      subtrhnd_reg=comps['m_reg'],\n",
    "                      scratch_reg=comps['scratch_reg'])\n",
    "\n",
    "results = get_results_of_last_test()\n",
    "# qc.draw()\n",
    "# print(results)"
   ]
  },
  {
   "cell_type": "code",
   "execution_count": 14,
   "metadata": {},
   "outputs": [
    {
     "name": "stdout",
     "output_type": "stream",
     "text": [
      "PASSING - {} 2019-08-05 13:38:03.037451\n"
     ]
    }
   ],
   "source": [
    "verify_results('000')"
   ]
  },
  {
   "cell_type": "markdown",
   "metadata": {},
   "source": [
    "### Case 7\n",
    "**6 - 5 = 1**  \n",
    "**Expected Output:** `1`"
   ]
  },
  {
   "cell_type": "code",
   "execution_count": 15,
   "metadata": {},
   "outputs": [],
   "source": [
    "# Get test components\n",
    "comps = before_each_subtraction_test()\n",
    "qc = comps['qc']\n",
    "\n",
    "# Set n_reg to ...110\n",
    "qc.x(comps['n_reg'][0])\n",
    "qc.x(comps['n_reg'][1])\n",
    "qc.x(comps['n_reg'][2])\n",
    "# Set m_reg to ...011\n",
    "qc.x(comps['m_reg'][1])\n",
    "qc.x(comps['m_reg'][2])\n",
    "\n",
    "qc.barrier()\n",
    "sub_b_from_a_in_place(circuit=qc,\n",
    "                      minnd_reg=comps['n_reg'],\n",
    "                      subtrhnd_reg=comps['m_reg'],\n",
    "                      scratch_reg=comps['scratch_reg'])\n",
    "\n",
    "results = get_results_of_last_test()\n",
    "# qc.draw()\n",
    "# print(results)"
   ]
  },
  {
   "cell_type": "code",
   "execution_count": 16,
   "metadata": {},
   "outputs": [
    {
     "name": "stdout",
     "output_type": "stream",
     "text": [
      "PASSING - {} 2019-08-05 13:38:03.037451\n"
     ]
    }
   ],
   "source": [
    "verify_results('001')"
   ]
  },
  {
   "cell_type": "markdown",
   "metadata": {},
   "source": [
    "### Case 8\n",
    "**6 - 3 = 3**  \n",
    "**Expected Output:** `3`"
   ]
  },
  {
   "cell_type": "code",
   "execution_count": 19,
   "metadata": {},
   "outputs": [],
   "source": [
    "# Get test components\n",
    "comps = before_each_subtraction_test()\n",
    "qc = comps['qc']\n",
    "\n",
    "# Set n_reg to ...110\n",
    "qc.x(comps['n_reg'][1])\n",
    "qc.x(comps['n_reg'][2])\n",
    "# Set m_reg to ...011\n",
    "qc.x(comps['m_reg'][1])\n",
    "qc.x(comps['m_reg'][0])\n",
    "\n",
    "qc.barrier()\n",
    "sub_b_from_a_in_place(circuit=qc,\n",
    "                      minnd_reg=comps['n_reg'],\n",
    "                      subtrhnd_reg=comps['m_reg'],\n",
    "                      scratch_reg=comps['scratch_reg'])\n",
    "\n",
    "results = get_results_of_last_test()\n",
    "# qc.draw()\n",
    "# print(results)"
   ]
  },
  {
   "cell_type": "code",
   "execution_count": 20,
   "metadata": {},
   "outputs": [
    {
     "name": "stdout",
     "output_type": "stream",
     "text": [
      "PASSING - {} 2019-08-05 13:38:03.037451\n"
     ]
    }
   ],
   "source": [
    "verify_results('011')"
   ]
  },
  {
   "cell_type": "markdown",
   "metadata": {},
   "source": [
    "### Case 9\n",
    "**4 - 1 = 3**  \n",
    "**Expected Output:** `3`"
   ]
  },
  {
   "cell_type": "code",
   "execution_count": 21,
   "metadata": {},
   "outputs": [],
   "source": [
    "# Get test components\n",
    "comps = before_each_subtraction_test()\n",
    "qc = comps['qc']\n",
    "\n",
    "# Set n_reg to ...110\n",
    "qc.x(comps['n_reg'][2])\n",
    "# Set m_reg to ...011\n",
    "qc.x(comps['m_reg'][0])\n",
    "\n",
    "qc.barrier()\n",
    "sub_b_from_a_in_place(circuit=qc,\n",
    "                      minnd_reg=comps['n_reg'],\n",
    "                      subtrhnd_reg=comps['m_reg'],\n",
    "                      scratch_reg=comps['scratch_reg'])\n",
    "\n",
    "results = get_results_of_last_test()\n",
    "# qc.draw()\n",
    "# print(results)"
   ]
  },
  {
   "cell_type": "code",
   "execution_count": 22,
   "metadata": {},
   "outputs": [
    {
     "name": "stdout",
     "output_type": "stream",
     "text": [
      "PASSING - {} 2019-08-05 13:38:03.037451\n"
     ]
    }
   ],
   "source": [
    "verify_results('011')"
   ]
  },
  {
   "cell_type": "markdown",
   "metadata": {},
   "source": [
    "## Rollovers"
   ]
  },
  {
   "cell_type": "code",
   "execution_count": 31,
   "metadata": {},
   "outputs": [],
   "source": [
    "# Get test components\n",
    "comps = before_each_subtraction_test()\n",
    "qc = comps['qc']\n",
    "\n",
    "qc.x(comps['n_reg'][0])\n",
    "qc.x(comps['m_reg'][1])\n",
    "\n",
    "qc.barrier()\n",
    "sub_b_from_a_in_place(circuit=qc,\n",
    "                      minnd_reg=comps['n_reg'],\n",
    "                      subtrhnd_reg=comps['m_reg'],\n",
    "                      scratch_reg=comps['scratch_reg'])\n",
    "\n",
    "for bit in range(len(comps['scratch_reg'])):\n",
    "    qc.measure(comps['scratch_reg'], comps['class_reg'])\n",
    "    \n",
    "results = execute(qc, backend=backend, shots=1024).result()"
   ]
  },
  {
   "cell_type": "code",
   "execution_count": 33,
   "metadata": {},
   "outputs": [
    {
     "name": "stdout",
     "output_type": "stream",
     "text": [
      "{'000': 1024}\n"
     ]
    }
   ],
   "source": [
    "print(results.get_counts())"
   ]
  },
  {
   "cell_type": "code",
   "execution_count": 23,
   "metadata": {},
   "outputs": [],
   "source": [
    "# Get test components\n",
    "comps = before_each_subtraction_test()\n",
    "qc = comps['qc']\n",
    "\n",
    "qc.x(comps['n_reg'][0])\n",
    "qc.x(comps['m_reg'][1])\n",
    "\n",
    "qc.barrier()\n",
    "sub_b_from_a_in_place(circuit=qc,\n",
    "                      minnd_reg=comps['n_reg'],\n",
    "                      subtrhnd_reg=comps['m_reg'],\n",
    "                      scratch_reg=comps['scratch_reg'])\n",
    "\n",
    "results = get_results_of_last_test()"
   ]
  },
  {
   "cell_type": "code",
   "execution_count": 24,
   "metadata": {},
   "outputs": [
    {
     "name": "stdout",
     "output_type": "stream",
     "text": [
      "{'111': 1024}\n"
     ]
    }
   ],
   "source": [
    "print(results)"
   ]
  },
  {
   "cell_type": "code",
   "execution_count": 30,
   "metadata": {},
   "outputs": [
    {
     "name": "stderr",
     "output_type": "stream",
     "text": [
      "No measurements in circuit \"circuit26\": count data will return all zeros.\n"
     ]
    }
   ],
   "source": [
    "# Get test components\n",
    "comps = before_each_subtraction_test()\n",
    "qc = comps['qc']\n",
    "\n",
    "qc.x(comps['n_reg'][1])\n",
    "qc.x(comps['m_reg'][1])\n",
    "qc.x(comps['m_reg'][2])\n",
    "\n",
    "qc.barrier()\n",
    "sub_b_from_a_in_place(circuit=qc,\n",
    "                      minnd_reg=comps['n_reg'],\n",
    "                      subtrhnd_reg=comps['m_reg'],\n",
    "                      scratch_reg=comps['scratch_reg'])\n",
    "\n",
    "results = execute(qc, backend=backend, shots=1024).result()"
   ]
  },
  {
   "cell_type": "code",
   "execution_count": 28,
   "metadata": {},
   "outputs": [
    {
     "name": "stdout",
     "output_type": "stream",
     "text": [
      "{'100': 1024}\n"
     ]
    }
   ],
   "source": [
    "print(results)"
   ]
  },
  {
   "cell_type": "code",
   "execution_count": null,
   "metadata": {},
   "outputs": [],
   "source": []
  }
 ],
 "metadata": {
  "kernelspec": {
   "display_name": "Python 3",
   "language": "python",
   "name": "python3"
  },
  "language_info": {
   "codemirror_mode": {
    "name": "ipython",
    "version": 3
   },
   "file_extension": ".py",
   "mimetype": "text/x-python",
   "name": "python",
   "nbconvert_exporter": "python",
   "pygments_lexer": "ipython3",
   "version": "3.6.7"
  }
 },
 "nbformat": 4,
 "nbformat_minor": 2
}
