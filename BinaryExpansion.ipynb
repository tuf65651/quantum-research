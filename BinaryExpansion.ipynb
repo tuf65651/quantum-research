{
  "cells": [
    {
      "cell_type": "code",
      "execution_count": 47,
      "metadata": {
        "trusted": true
      },
      "outputs": [
        {
          "name": "stderr",
          "output_type": "stream",
          "text": "/opt/conda/lib/python3.7/site-packages/qiskit/providers/ibmq/ibmqprovider.py:269: UserWarning: Credentials are already in use.\n  warnings.warn('Credentials are already in use.')\n"
        }
      ],
      "source": "%matplotlib inline\n# Importing standard Qiskit libraries and configuring account\nfrom qiskit import QuantumCircuit, QuantumRegister, ClassicalRegister, execute, Aer, IBMQ\nfrom qiskit.compiler import transpile, assemble\nfrom qiskit.tools.jupyter import *\nfrom qiskit.visualization import *\nimport math\n# Loading your IBM Q account(s)\nIBMQ.load_accounts()"
    },
    {
      "cell_type": "code",
      "execution_count": null,
      "metadata": {
        "trusted": true
      },
      "outputs": [],
      "source": "backend = Aer.get_backend(\"qasm_simulator\")"
    },
    {
      "cell_type": "code",
      "execution_count": 42,
      "metadata": {
        "trusted": true
      },
      "outputs": [],
      "source": "def bin_expansion(circ, q, N):\n    \"\"\"Places q of |0> into binary expansion of N\"\"\"\n    for i in range(N + 1):\n#     while N >= 0:\n        if N & (1 << i):\n            circ.x(q[i])"
    },
    {
      "cell_type": "code",
      "execution_count": 43,
      "metadata": {
        "trusted": true
      },
      "outputs": [],
      "source": "q = QuantumRegister(5, 'x')\nc = ClassicalRegister(5, 'y')\nqc = QuantumCircuit(q, c)"
    },
    {
      "cell_type": "code",
      "execution_count": 44,
      "metadata": {
        "trusted": true
      },
      "outputs": [],
      "source": "bin_expansion(qc, q, 5)\nfor i in range(5):\n    qc.measure(q[i], c[i])"
    },
    {
      "cell_type": "code",
      "execution_count": 45,
      "metadata": {
        "trusted": true
      },
      "outputs": [
        {
          "data": {
            "image/png": "[encoded data removed]",
            "text/plain": "<Figure size 842.8x620.06 with 1 Axes>"
          },
          "execution_count": 45,
          "metadata": {},
          "output_type": "execute_result"
        }
      ],
      "source": "qc.draw()"
    },
    {
      "cell_type": "code",
      "execution_count": 48,
      "metadata": {
        "trusted": true
      },
      "outputs": [],
      "source": "simulate = execute(qc, backend=backend, shots=1024).result()"
    },
    {
      "cell_type": "code",
      "execution_count": 21,
      "metadata": {
        "trusted": true
      },
      "outputs": [],
      "source": "def raw_bin_exp(N):\n    place_mask = 1\n    bins = []\n#     more_digits = True\n    while place_mask <= N:\n#     while N >= 0:\n        if N & place_mask:\n            bins = [1] + bins\n        else:\n            bins = [0] + bins\n#         place += 1\n        place_mask = place_mask * 2\n#         more_digits\n    if bins == []:\n        bins = [0]\n    return bins"
    },
    {
      "cell_type": "code",
      "execution_count": 49,
      "metadata": {
        "trusted": true
      },
      "outputs": [
        {
          "data": {
            "text/plain": "{'00101': 1024}"
          },
          "execution_count": 49,
          "metadata": {},
          "output_type": "execute_result"
        }
      ],
      "source": "simulate.get_counts()"
    },
    {
      "cell_type": "code",
      "execution_count": null,
      "metadata": {
        "trusted": true
      },
      "outputs": [],
      "source": ""
    }
  ],
  "metadata": {
    "kernelspec": {
      "display_name": "Python 3",
      "language": "python",
      "name": "python3"
    },
    "language_info": {
      "codemirror_mode": {
        "name": "ipython",
        "version": 3
      },
      "file_extension": ".py",
      "mimetype": "text/x-python",
      "name": "python",
      "nbconvert_exporter": "python",
      "pygments_lexer": "ipython3",
      "version": "3.7.3"
    }
  },
  "nbformat": 4,
  "nbformat_minor": 2
}