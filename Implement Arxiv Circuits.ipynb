{
 "cells": [
  {
   "cell_type": "code",
   "execution_count": 1,
   "metadata": {},
   "outputs": [],
   "source": [
    "from qiskit import QuantumCircuit, QuantumRegister, ClassicalRegister, execute, Aer, IBMQ\n",
    "from qiskit.compiler import transpile, assemble\n",
    "from qiskit.tools.jupyter import *\n",
    "from qiskit.visualization import *"
   ]
  },
  {
   "cell_type": "code",
   "execution_count": 2,
   "metadata": {},
   "outputs": [],
   "source": [
    "backend = Aer.get_backend(\"qasm_simulator\")"
   ]
  },
  {
   "cell_type": "code",
   "execution_count": 9,
   "metadata": {},
   "outputs": [],
   "source": [
    "\"\"\"implelement gates from arxiv.org quant-ph/0410184, A new quantum ripple-carry addition circuit\"\"\"\n",
    "\n",
    "def MAJ(circuit, a, b, out):\n",
    "    \"\"\"Put out bit into state that majority of a b and out were in\"\"\"\n",
    "    circuit.cx(out, a)\n",
    "    circuit.cx(out, b)\n",
    "    circuit.ccx(a,b, out)\n",
    "    \n",
    "def UMA(circuit, u, m, a):\n",
    "    \"\"\"UnMajority and Add\"\"\"\n",
    "    circuit.x(m)\n",
    "    circuit.cx(u,m)\n",
    "    circuit.ccx(u,m,a)\n",
    "    circuit.x(m)\n",
    "    circuit.cx(a,u)\n",
    "    circuit.cx(a,m)"
   ]
  },
  {
   "cell_type": "code",
   "execution_count": 5,
   "metadata": {},
   "outputs": [],
   "source": [
    "a = QuantumRegister(6, 'a')\n",
    "b = QuantumRegister(6, 'b')\n",
    "c = QuantumRegister(1, 'c')\n",
    "y = QuantumRegister(1, 'z')\n",
    "y = ClassicalRegister(4, 'y')\n",
    "qc = QuantumCircuit(m,n,c,y)"
   ]
  },
  {
   "cell_type": "code",
   "execution_count": 7,
   "metadata": {},
   "outputs": [],
   "source": [
    "MAJ(qc, m[0], n[1], c[0])"
   ]
  },
  {
   "cell_type": "code",
   "execution_count": 8,
   "metadata": {},
   "outputs": [
    {
     "data": {
      "text/html": [
       "<pre style=\"word-wrap: normal;white-space: pre;line-height: 15px;\">        ┌───┐          \n",
       "m_0: |0>┤ X ├───────■──\n",
       "        └─┬─┘       │  \n",
       "m_1: |0>──┼─────────┼──\n",
       "          │         │  \n",
       "m_2: |0>──┼─────────┼──\n",
       "          │         │  \n",
       "m_3: |0>──┼─────────┼──\n",
       "          │         │  \n",
       "n_0: |0>──┼─────────┼──\n",
       "          │  ┌───┐  │  \n",
       "n_1: |0>──┼──┤ X ├──■──\n",
       "          │  └─┬─┘  │  \n",
       "n_2: |0>──┼────┼────┼──\n",
       "          │    │    │  \n",
       "n_3: |0>──┼────┼────┼──\n",
       "          │    │  ┌─┴─┐\n",
       "c_0: |0>──■────■──┤ X ├\n",
       "                  └───┘</pre>"
      ],
      "text/plain": [
       "<qiskit.visualization.text.TextDrawing at 0x7fa9d1753518>"
      ]
     },
     "execution_count": 8,
     "metadata": {},
     "output_type": "execute_result"
    }
   ],
   "source": [
    "qc.draw()"
   ]
  },
  {
   "cell_type": "code",
   "execution_count": null,
   "metadata": {},
   "outputs": [],
   "source": []
  }
 ],
 "metadata": {
  "kernelspec": {
   "display_name": "Python 3",
   "language": "python",
   "name": "python3"
  },
  "language_info": {
   "codemirror_mode": {
    "name": "ipython",
    "version": 3
   },
   "file_extension": ".py",
   "mimetype": "text/x-python",
   "name": "python",
   "nbconvert_exporter": "python",
   "pygments_lexer": "ipython3",
   "version": "3.6.7"
  }
 },
 "nbformat": 4,
 "nbformat_minor": 2
}
