{
  "cells": [
    {
      "cell_type": "code",
      "execution_count": 20,
      "metadata": {
        "trusted": true
      },
      "outputs": [
        {
          "name": "stderr",
          "output_type": "stream",
          "text": "/opt/conda/lib/python3.7/site-packages/qiskit/providers/ibmq/ibmqfactory.py:178: UserWarning: Credentials are already in use. The existing account in the session will be replaced.\n  warnings.warn('Credentials are already in use. The existing '\n"
        },
        {
          "data": {
            "text/plain": "<AccountProvider for IBMQ(hub='ibm-q', group='open', project='main')>"
          },
          "execution_count": 20,
          "metadata": {},
          "output_type": "execute_result"
        }
      ],
      "source": "%matplotlib inline\n# Importing standard Qiskit libraries and configuring account\nfrom qiskit import QuantumCircuit, QuantumRegister, ClassicalRegister, execute, Aer, IBMQ\nfrom qiskit.compiler import transpile, assemble\nfrom qiskit.tools.jupyter import *\nfrom qiskit.visualization import *\nimport math\n# Loading your IBM Q account(s)\nIBMQ.load_account()"
    },
    {
      "cell_type": "code",
      "execution_count": 21,
      "metadata": {
        "trusted": true
      },
      "outputs": [],
      "source": "backend = Aer.get_backend(\"qasm_simulator\")"
    },
    {
      "cell_type": "code",
      "execution_count": 43,
      "metadata": {
        "trusted": true
      },
      "outputs": [],
      "source": "n_reg = QuantumRegister(4, 'n')\nm_reg = QuantumRegister(8, 'm')\nc_reg = ClassicalRegister(8, 'y')\nqc = QuantumCircuit(n_reg, m_reg,c_reg)"
    },
    {
      "cell_type": "code",
      "execution_count": 44,
      "metadata": {
        "trusted": true
      },
      "outputs": [
        {
          "data": {
            "text/plain": "<qiskit.extensions.standard.x.XGate at 0x7f9e5c080588>"
          },
          "execution_count": 44,
          "metadata": {},
          "output_type": "execute_result"
        }
      ],
      "source": "# Register n set to 5\nqc.x(n_reg[0])\nqc.x(n_reg[1])\n# Register m set to 3\nqc.x(m_reg[0])\nqc.x(m_reg[2])"
    },
    {
      "cell_type": "code",
      "execution_count": 58,
      "metadata": {
        "trusted": true
      },
      "outputs": [],
      "source": "def convolute_shift_func(circuit, control_reg, acc_reg, power):\n    \"\"\"Implement bit shift.\n    @param circuit: QuantumCircuit containing operands\n    @param control_reg: QuantumRegister containing qubit that defines power (all operations conditional on this)\n    @param acc_reg: QuantumRegister containing integer to shift\n    @param power: int number of places to shift (if control_reg[power])\"\"\"\n    ## NOTE: Power is the number of places to shift. Power 1 is controlled by\n    ## control register's 2nd bit, which is control_reg[1]\n    ## and refers to shift of 2^1, or shift one place\n    \n    # Flip all qubits in accumulator to allow ripple carry\n#     for qubit in range(len(acc_reg)):\n#         circuit.x(acc_reg[qubit])\n        \n    for target_bit in range(len(acc_reg) - 1):\n        # shift bit by correct number of places\n#         circuit.ccx(control_reg[power], acc_reg[target_bit], acc_reg[target_bit + power])\n\n        # Circuit will flip target bit before evaluating. Preempt that first flip.\n        circuit.cx(control_reg[power], acc_reg[target_bit])\n        # Flip next bit if carry occurs\n        for flipped_bit in range(target_bit, len(acc_reg) - 1):\n            ## Carry occurs if target now 0 (if flip makes it 1).\n            circuit.cx(control_reg[power], acc_reg[flipped_bit])\n            circuit.ccx(control_reg[power], acc_reg[flipped_bit], acc_reg[flipped_bit + 1])\n            circuit.cx(control_reg[power], acc_reg[flipped_bit])\n            # Flip bit that's being shifted\n            # circuit.cx(control_reg[power], acc_reg[target_bit])"
    },
    {
      "cell_type": "code",
      "execution_count": null,
      "metadata": {
        "trusted": true
      },
      "outputs": [],
      "source": "def ripple_carry_bits(circuit, control_bit, acc_reg, start_shifting_at):\n    \"\"\"Implement bit shift.\n    @param circuit: QuantumCircuit containing operands\n    @param control_reg: QuantumRegister containing qubit that defines power (all operations conditional on this)\n    @param acc_reg: QuantumRegister containing integer to shift\n    @param power: int number of places to shift (if control_reg[power])\n    @param start_shifting_at: index in acc_reg of bit to shift\"\"\"\n    \n    \"\"\"\n    NOTE: Power is the number of places to shift. Power 1 is controlled by\n    control register's 2nd bit, which is control_reg[1]\n    and refers to shift of 2^1, or shift one place\n    \"\"\"\n    \n    # After flipping target, state |0> means we should have carried... =>\n    # before flipping target, state |1> means we should carry.\n        \n        ripple_carry_bits(circuit, control_bit, acc_reg, start_shifting)\n        circuit.cx(control_reg[power], acc_reg[target_bit])\n        "
    },
    {
      "cell_type": "code",
      "execution_count": 59,
      "metadata": {
        "scrolled": false,
        "trusted": true
      },
      "outputs": [
        {
          "ename": "NameError",
          "evalue": "name 'target_bit' is not defined",
          "output_type": "error",
          "traceback": [
            "\u001b[0;31m---------------------------------------------------------------------------\u001b[0m",
            "\u001b[0;31mNameError\u001b[0m                                 Traceback (most recent call last)",
            "\u001b[0;32m<ipython-input-59-498f76d110e5>\u001b[0m in \u001b[0;36m<module>\u001b[0;34m\u001b[0m\n\u001b[0;32m----> 1\u001b[0;31m \u001b[0mcontrol_shift_bit_x_places\u001b[0m\u001b[0;34m(\u001b[0m\u001b[0mqc\u001b[0m\u001b[0;34m,\u001b[0m \u001b[0mn_reg\u001b[0m\u001b[0;34m,\u001b[0m \u001b[0mm_reg\u001b[0m\u001b[0;34m,\u001b[0m \u001b[0;36m1\u001b[0m\u001b[0;34m)\u001b[0m\u001b[0;34m\u001b[0m\u001b[0;34m\u001b[0m\u001b[0m\n\u001b[0m\u001b[1;32m      2\u001b[0m \u001b[0;32mfor\u001b[0m \u001b[0mindex\u001b[0m \u001b[0;32min\u001b[0m \u001b[0mrange\u001b[0m\u001b[0;34m(\u001b[0m\u001b[0mlen\u001b[0m\u001b[0;34m(\u001b[0m\u001b[0mn_reg\u001b[0m\u001b[0;34m)\u001b[0m\u001b[0;34m)\u001b[0m\u001b[0;34m:\u001b[0m\u001b[0;34m\u001b[0m\u001b[0;34m\u001b[0m\u001b[0m\n\u001b[1;32m      3\u001b[0m     \u001b[0mqc\u001b[0m\u001b[0;34m.\u001b[0m\u001b[0mmeasure\u001b[0m\u001b[0;34m(\u001b[0m\u001b[0mm_reg\u001b[0m\u001b[0;34m[\u001b[0m\u001b[0mindex\u001b[0m\u001b[0;34m]\u001b[0m\u001b[0;34m,\u001b[0m \u001b[0mc_reg\u001b[0m\u001b[0;34m[\u001b[0m\u001b[0mindex\u001b[0m\u001b[0;34m]\u001b[0m\u001b[0;34m)\u001b[0m\u001b[0;34m\u001b[0m\u001b[0;34m\u001b[0m\u001b[0m\n\u001b[1;32m      4\u001b[0m \u001b[0mqc\u001b[0m\u001b[0;34m.\u001b[0m\u001b[0mdraw\u001b[0m\u001b[0;34m(\u001b[0m\u001b[0;34m)\u001b[0m\u001b[0;34m\u001b[0m\u001b[0;34m\u001b[0m\u001b[0m\n",
            "\u001b[0;32m<ipython-input-58-75f0c8e7028b>\u001b[0m in \u001b[0;36mcontrol_shift_bit_x_places\u001b[0;34m(circuit, control_reg, acc_reg, power)\u001b[0m\n\u001b[1;32m     18\u001b[0m \u001b[0;34m\u001b[0m\u001b[0m\n\u001b[1;32m     19\u001b[0m         \u001b[0;31m# Circuit will flip target bit before evaluating. Preempt that first flip.\u001b[0m\u001b[0;34m\u001b[0m\u001b[0;34m\u001b[0m\u001b[0;34m\u001b[0m\u001b[0m\n\u001b[0;32m---> 20\u001b[0;31m     \u001b[0mcircuit\u001b[0m\u001b[0;34m.\u001b[0m\u001b[0mcx\u001b[0m\u001b[0;34m(\u001b[0m\u001b[0mcontrol_reg\u001b[0m\u001b[0;34m[\u001b[0m\u001b[0mpower\u001b[0m\u001b[0;34m]\u001b[0m\u001b[0;34m,\u001b[0m \u001b[0macc_reg\u001b[0m\u001b[0;34m[\u001b[0m\u001b[0mtarget_bit\u001b[0m\u001b[0;34m]\u001b[0m\u001b[0;34m)\u001b[0m\u001b[0;34m\u001b[0m\u001b[0;34m\u001b[0m\u001b[0m\n\u001b[0m\u001b[1;32m     21\u001b[0m         \u001b[0;31m# Flip next bit if carry occurs\u001b[0m\u001b[0;34m\u001b[0m\u001b[0;34m\u001b[0m\u001b[0;34m\u001b[0m\u001b[0m\n\u001b[1;32m     22\u001b[0m     \u001b[0;32mfor\u001b[0m \u001b[0mflipped_bit\u001b[0m \u001b[0;32min\u001b[0m \u001b[0mrange\u001b[0m\u001b[0;34m(\u001b[0m\u001b[0mlen\u001b[0m\u001b[0;34m(\u001b[0m\u001b[0macc_reg\u001b[0m\u001b[0;34m)\u001b[0m \u001b[0;34m-\u001b[0m \u001b[0;36m1\u001b[0m\u001b[0;34m)\u001b[0m\u001b[0;34m:\u001b[0m\u001b[0;34m\u001b[0m\u001b[0;34m\u001b[0m\u001b[0m\n",
            "\u001b[0;31mNameError\u001b[0m: name 'target_bit' is not defined"
          ]
        }
      ],
      "source": "control_shift_bit_x_places(qc, n_reg, m_reg, 1)\nfor index in range(len(n_reg)):\n    qc.measure(m_reg[index], c_reg[index])\nqc.draw()"
    },
    {
      "cell_type": "code",
      "execution_count": 51,
      "metadata": {
        "trusted": true
      },
      "outputs": [],
      "source": "simulate = execute(qc, backend=backend, shots=1024).result()"
    },
    {
      "cell_type": "code",
      "execution_count": 52,
      "metadata": {
        "trusted": true
      },
      "outputs": [
        {
          "data": {
            "text/plain": "{'00000100': 1024}"
          },
          "execution_count": 52,
          "metadata": {},
          "output_type": "execute_result"
        }
      ],
      "source": "simulate.get_counts()"
    },
    {
      "cell_type": "code",
      "execution_count": 6,
      "metadata": {
        "trusted": true
      },
      "outputs": [
        {
          "name": "stdout",
          "output_type": "stream",
          "text": "[9, 8, 7, 6, 5]\n"
        }
      ],
      "source": "print([x for x in range(9, 4, -1)])"
    },
    {
      "cell_type": "code",
      "execution_count": null,
      "metadata": {
        "trusted": true
      },
      "outputs": [],
      "source": ""
    }
  ],
  "metadata": {
    "kernelspec": {
      "display_name": "Python 3",
      "language": "python",
      "name": "python3"
    },
    "language_info": {
      "codemirror_mode": {
        "name": "ipython",
        "version": 3
      },
      "file_extension": ".py",
      "mimetype": "text/x-python",
      "name": "python",
      "nbconvert_exporter": "python",
      "pygments_lexer": "ipython3",
      "version": "3.7.3"
    }
  },
  "nbformat": 4,
  "nbformat_minor": 2
}