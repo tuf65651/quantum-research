{
 "cells": [
  {
   "cell_type": "code",
   "execution_count": 1,
   "metadata": {},
   "outputs": [],
   "source": [
    "# %matplotlib inline\n",
    "# Importing standard Qiskit libraries and configuring account\n",
    "from qiskit import QuantumCircuit, QuantumRegister, ClassicalRegister, execute, Aer, IBMQ\n",
    "from qiskit.compiler import transpile, assemble\n",
    "from qiskit.tools.jupyter import *\n",
    "from qiskit.visualization import *\n",
    "from datetime import datetime\n",
    "# import math\n",
    "# Loading your IBM Q account(s)\n",
    "# IBMQ.load_account()"
   ]
  },
  {
   "cell_type": "code",
   "execution_count": 2,
   "metadata": {},
   "outputs": [],
   "source": [
    "backend = Aer.get_backend(\"qasm_simulator\")"
   ]
  },
  {
   "cell_type": "markdown",
   "metadata": {},
   "source": [
    "## Ripple Carry Test Cases"
   ]
  },
  {
   "cell_type": "markdown",
   "metadata": {},
   "source": [
    "### Setup"
   ]
  },
  {
   "cell_type": "code",
   "execution_count": 3,
   "metadata": {},
   "outputs": [],
   "source": [
    "# global n_reg\n",
    "# global m_reg\n",
    "# global scratch_a\n",
    "# global class_reg\n",
    "# global backend\n",
    "# global qc\n",
    "# global test_timestamp\n",
    "\n",
    "# def before_tests():\n",
    "n_reg = QuantumRegister(3, 'n')\n",
    "m_reg = QuantumRegister(2, 'm')\n",
    "scratch_a = QuantumRegister(3, 'sca')\n",
    "class_reg = ClassicalRegister(3, 'y')\n",
    "qc = QuantumCircuit(n_reg, m_reg, scratch_a, class_reg)\n",
    "\n",
    "backend = Aer.get_backend('qasm_simulator')\n",
    "\n",
    "from ArithmaticFunctions import ripple_carry_bits"
   ]
  },
  {
   "cell_type": "code",
   "execution_count": 4,
   "metadata": {},
   "outputs": [],
   "source": [
    "test_timestamp = str(datetime.now())"
   ]
  },
  {
   "cell_type": "markdown",
   "metadata": {},
   "source": [
    "### BeforeAll"
   ]
  },
  {
   "cell_type": "code",
   "execution_count": 5,
   "metadata": {},
   "outputs": [],
   "source": [
    "def before_each_ripple_borrow_test():\n",
    "    n_reg = QuantumRegister(3, 'n')\n",
    "    m_reg = QuantumRegister(2, 'm')\n",
    "    scratch_a = QuantumRegister(3, 'sca')\n",
    "    qc = QuantumCircuit(n_reg, m_reg, scratch_a, class_reg)\n",
    "\n",
    "    # Set control bits\n",
    "    qc.x(m_reg[1])\n",
    "    \n",
    "    return {'n_reg': n_reg, 'm_reg': m_reg, 'scratch_a': scratch_a, 'class_reg': class_reg, 'qc': qc }"
   ]
  },
  {
   "cell_type": "markdown",
   "metadata": {},
   "source": [
    "### PostAllTests"
   ]
  },
  {
   "cell_type": "code",
   "execution_count": 6,
   "metadata": {},
   "outputs": [],
   "source": [
    "def get_results_of_last_test():\n",
    "    for bit in range(len(n_reg)):\n",
    "        qc.measure(n_reg[bit], class_reg[bit])\n",
    "\n",
    "    simulate = execute(qc, backend=backend, shots=1024).result()\n",
    "    return simulate.get_counts()\n",
    "\n",
    "def verify_results(expected):\n",
    "    time_stamp = str(datetime.now())\n",
    "    if [expected] == list(results.keys()):\n",
    "        print(\"PASSING - \", test_timestamp)\n",
    "    else:\n",
    "        print(\"FAILING - \", test_timestamp)\n",
    "        print(f'Got - {results}')\n",
    "    "
   ]
  },
  {
   "cell_type": "markdown",
   "metadata": {},
   "source": [
    "#### Case 1\n",
    "**Status:** Passing  \n",
    "**Expected Result:** `1`"
   ]
  },
  {
   "cell_type": "code",
   "execution_count": 81,
   "metadata": {},
   "outputs": [],
   "source": [
    "# 0 + 1 = 1\n",
    "\n",
    "test_components = before_each_ripple_borrow_test()\n",
    "qc = test_components['qc']\n",
    "\n",
    "qc.barrier()\n",
    "ripple_carry_bits(circuit=qc, acc_reg=n_reg, control_bit=m_reg[1], scratch_reg=scratch_a, start_shifting_at=0)\n",
    "\n",
    "results = get_results_of_last_test()\n",
    "\n",
    "# qc.draw()"
   ]
  },
  {
   "cell_type": "code",
   "execution_count": 82,
   "metadata": {},
   "outputs": [
    {
     "name": "stdout",
     "output_type": "stream",
     "text": [
      "PASSING -  2019-07-31 00:45:54.785538\n"
     ]
    }
   ],
   "source": [
    "verify_results(expected='001')"
   ]
  },
  {
   "cell_type": "markdown",
   "metadata": {},
   "source": [
    "#### Case 2\n",
    "**Status:** Passing  \n",
    "**Expected Result**: `1`"
   ]
  },
  {
   "cell_type": "code",
   "execution_count": 83,
   "metadata": {},
   "outputs": [
    {
     "data": {
      "text/html": [
       "<pre style=\"word-wrap: normal;white-space: pre;line-height: 15px;\">             ┌───┐     ┌───┐          ┌─┐   \n",
       "  n_0: |0>───┤ X ├──■──┤ X ├──────────┤M├───\n",
       "             └───┘  │  └─┬─┘     ┌───┐└╥┘┌─┐\n",
       "  n_1: |0>──────────┼────┼────■──┤ X ├─╫─┤M├\n",
       "          ┌─┐       │    │    │  └─┬─┘ ║ └╥┘\n",
       "  n_2: |0>┤M├───────┼────┼────┼────┼───╫──╫─\n",
       "          └╥┘       │    │    │    │   ║  ║ \n",
       "  m_0: |0>─╫────────■────■────┼────┼───╫──╫─\n",
       "           ║ ┌───┐  │         │    │   ║  ║ \n",
       "  m_1: |0>─╫─┤ X ├──┼─────────┼────┼───╫──╫─\n",
       "           ║ └───┘┌─┴─┐       │    │   ║  ║ \n",
       "sca_0: |0>─╫──────┤ X ├───────■────■───╫──╫─\n",
       "           ║      └───┘     ┌─┴─┐      ║  ║ \n",
       "sca_1: |0>─╫────────────────┤ X ├──────╫──╫─\n",
       "           ║                └───┘      ║  ║ \n",
       "sca_2: |0>─╫───────────────────────────╫──╫─\n",
       "           ║                           ║  ║ \n",
       "   y_0: 0 ═╬═══════════════════════════╩══╬═\n",
       "           ║                              ║ \n",
       "   y_1: 0 ═╬══════════════════════════════╩═\n",
       "           ║                                \n",
       "   y_2: 0 ═╩════════════════════════════════\n",
       "                                            </pre>"
      ],
      "text/plain": [
       "<qiskit.visualization.text.TextDrawing at 0x7f428ed1b978>"
      ]
     },
     "execution_count": 83,
     "metadata": {},
     "output_type": "execute_result"
    }
   ],
   "source": [
    "# NO-OP(1)\n",
    "\n",
    "test_components = before_each_ripple_borrow_test()\n",
    "qc = test_components['qc']\n",
    "\n",
    "qc.x(n_reg[0])\n",
    "# qc.barrier()\n",
    "ripple_carry_bits(circuit=qc, acc_reg=n_reg, control_bit=m_reg[False], scratch_reg=scratch_a, start_shifting_at=0)\n",
    "\n",
    "results = get_results_of_last_test()\n",
    "qc.draw()"
   ]
  },
  {
   "cell_type": "code",
   "execution_count": 84,
   "metadata": {
    "scrolled": true
   },
   "outputs": [
    {
     "name": "stdout",
     "output_type": "stream",
     "text": [
      "PASSING -  2019-07-31 00:45:54.785538\n"
     ]
    }
   ],
   "source": [
    "verify_results(expected='001')"
   ]
  },
  {
   "cell_type": "markdown",
   "metadata": {},
   "source": [
    "#### Case 3\n",
    "**Status:** Passing     \n",
    "**Expected Result:** `2`"
   ]
  },
  {
   "cell_type": "code",
   "execution_count": 85,
   "metadata": {},
   "outputs": [],
   "source": [
    "# 1 + 1 = 2\n",
    "\n",
    "test_components = before_each_ripple_borrow_test()\n",
    "qc = test_components['qc']\n",
    "\n",
    "qc.x(n_reg[0])\n",
    "\n",
    "ripple_carry_bits(circuit=qc, acc_reg=n_reg, control_bit=m_reg[True], scratch_reg=scratch_a, start_shifting_at=0)\n",
    "results = get_results_of_last_test()\n",
    "\n",
    "# qc.draw()"
   ]
  },
  {
   "cell_type": "code",
   "execution_count": 86,
   "metadata": {
    "scrolled": true
   },
   "outputs": [
    {
     "name": "stdout",
     "output_type": "stream",
     "text": [
      "PASSING -  2019-07-31 00:45:54.785538\n"
     ]
    }
   ],
   "source": [
    "verify_results(expected='010')"
   ]
  },
  {
   "cell_type": "markdown",
   "metadata": {},
   "source": [
    "#### Case 4\n",
    "**Status:** Passing  \n",
    "**Expected Result:** `3`"
   ]
  },
  {
   "cell_type": "code",
   "execution_count": 87,
   "metadata": {},
   "outputs": [
    {
     "data": {
      "text/html": [
       "<pre style=\"word-wrap: normal;white-space: pre;line-height: 15px;\">                       ┌───┐          ┌─┐   \n",
       "  n_0: |0>──────────■──┤ X ├──────────┤M├───\n",
       "             ┌───┐  │  └─┬─┘     ┌───┐└╥┘┌─┐\n",
       "  n_1: |0>───┤ X ├──┼────┼────■──┤ X ├─╫─┤M├\n",
       "          ┌─┐└───┘  │    │    │  └─┬─┘ ║ └╥┘\n",
       "  n_2: |0>┤M├───────┼────┼────┼────┼───╫──╫─\n",
       "          └╥┘       │    │    │    │   ║  ║ \n",
       "  m_0: |0>─╫────────┼────┼────┼────┼───╫──╫─\n",
       "           ║ ┌───┐  │    │    │    │   ║  ║ \n",
       "  m_1: |0>─╫─┤ X ├──■────■────┼────┼───╫──╫─\n",
       "           ║ └───┘┌─┴─┐       │    │   ║  ║ \n",
       "sca_0: |0>─╫──────┤ X ├───────■────■───╫──╫─\n",
       "           ║      └───┘     ┌─┴─┐      ║  ║ \n",
       "sca_1: |0>─╫────────────────┤ X ├──────╫──╫─\n",
       "           ║                └───┘      ║  ║ \n",
       "sca_2: |0>─╫───────────────────────────╫──╫─\n",
       "           ║                           ║  ║ \n",
       "   y_0: 0 ═╬═══════════════════════════╩══╬═\n",
       "           ║                              ║ \n",
       "   y_1: 0 ═╬══════════════════════════════╩═\n",
       "           ║                                \n",
       "   y_2: 0 ═╩════════════════════════════════\n",
       "                                            </pre>"
      ],
      "text/plain": [
       "<qiskit.visualization.text.TextDrawing at 0x7f428eb263c8>"
      ]
     },
     "execution_count": 87,
     "metadata": {},
     "output_type": "execute_result"
    }
   ],
   "source": [
    "# 2 + 1 = 3\n",
    "\n",
    "test_components = before_each_ripple_borrow_test()\n",
    "qc = test_components['qc']\n",
    "\n",
    "qc.x(n_reg[1])\n",
    "# qc.barrier()\n",
    "ripple_carry_bits(circuit=qc, acc_reg=n_reg, control_bit=m_reg[True], scratch_reg=scratch_a, start_shifting_at=0)\n",
    "results = get_results_of_last_test()\n",
    "\n",
    "qc.draw()"
   ]
  },
  {
   "cell_type": "code",
   "execution_count": 88,
   "metadata": {
    "scrolled": true
   },
   "outputs": [
    {
     "name": "stdout",
     "output_type": "stream",
     "text": [
      "PASSING -  2019-07-31 00:45:54.785538\n"
     ]
    }
   ],
   "source": [
    "verify_results(expected='011')"
   ]
  },
  {
   "cell_type": "markdown",
   "metadata": {},
   "source": [
    "#### Case 5\n",
    "**Status:** Passing  \n",
    "**Expected Result:** `3`"
   ]
  },
  {
   "cell_type": "code",
   "execution_count": 89,
   "metadata": {
    "scrolled": true
   },
   "outputs": [],
   "source": [
    "# 1 + 2 = 3\n",
    "\n",
    "test_components = before_each_ripple_borrow_test()\n",
    "qc = test_components['qc']\n",
    "\n",
    "qc.x(n_reg[0])\n",
    "\n",
    "ripple_carry_bits(circuit=qc, acc_reg=n_reg, control_bit=m_reg[True], scratch_reg=scratch_a, start_shifting_at=1)\n",
    "results = get_results_of_last_test()\n",
    "# qc.draw()"
   ]
  },
  {
   "cell_type": "code",
   "execution_count": 90,
   "metadata": {
    "scrolled": true
   },
   "outputs": [
    {
     "name": "stdout",
     "output_type": "stream",
     "text": [
      "PASSING -  2019-07-31 00:45:54.785538\n"
     ]
    }
   ],
   "source": [
    "verify_results(expected='011')"
   ]
  },
  {
   "cell_type": "markdown",
   "metadata": {},
   "source": [
    "#### Case 6\n",
    "**Status:** Passing  \n",
    "**Expected Result:** 4"
   ]
  },
  {
   "cell_type": "code",
   "execution_count": 7,
   "metadata": {
    "scrolled": true
   },
   "outputs": [
    {
     "data": {
      "text/html": [
       "<pre style=\"word-wrap: normal;white-space: pre;line-height: 15px;\">          ┌─┐                               \n",
       "  n_0: |0>┤M├───────────────────────────────\n",
       "          └╥┘┌───┐     ┌───┐          ┌─┐   \n",
       "  n_1: |0>─╫─┤ X ├──■──┤ X ├──────────┤M├───\n",
       "           ║ └───┘  │  └─┬─┘     ┌───┐└╥┘┌─┐\n",
       "  n_2: |0>─╫────────┼────┼────■──┤ X ├─╫─┤M├\n",
       "           ║        │    │    │  └─┬─┘ ║ └╥┘\n",
       "  m_0: |0>─╫────────┼────┼────┼────┼───╫──╫─\n",
       "           ║ ┌───┐  │    │    │    │   ║  ║ \n",
       "  m_1: |0>─╫─┤ X ├──■────■────┼────┼───╫──╫─\n",
       "           ║ └───┘  │         │    │   ║  ║ \n",
       "sca_0: |0>─╫────────┼─────────┼────┼───╫──╫─\n",
       "           ║      ┌─┴─┐       │    │   ║  ║ \n",
       "sca_1: |0>─╫──────┤ X ├───────■────■───╫──╫─\n",
       "           ║      └───┘     ┌─┴─┐      ║  ║ \n",
       "sca_2: |0>─╫────────────────┤ X ├──────╫──╫─\n",
       "           ║                └───┘      ║  ║ \n",
       "   y_0: 0 ═╩═══════════════════════════╬══╬═\n",
       "                                       ║  ║ \n",
       "   y_1: 0 ═════════════════════════════╩══╬═\n",
       "                                          ║ \n",
       "   y_2: 0 ════════════════════════════════╩═\n",
       "                                            </pre>"
      ],
      "text/plain": [
       "<qiskit.visualization.text.TextDrawing at 0x7f2a4cad2470>"
      ]
     },
     "execution_count": 7,
     "metadata": {},
     "output_type": "execute_result"
    }
   ],
   "source": [
    "# 2 + 2 = 4\n",
    "\n",
    "test_components = before_each_ripple_borrow_test()\n",
    "qc = test_components['qc']\n",
    "\n",
    "qc.x(n_reg[1])\n",
    "\n",
    "ripple_carry_bits(circuit=qc, acc_reg=n_reg, control_bit=m_reg[True], scratch_reg=scratch_a, start_shifting_at=1)\n",
    "results = get_results_of_last_test()\n",
    "\n",
    "qc.draw()"
   ]
  },
  {
   "cell_type": "code",
   "execution_count": 8,
   "metadata": {
    "scrolled": true
   },
   "outputs": [
    {
     "name": "stdout",
     "output_type": "stream",
     "text": [
      "PASSING -  2019-08-01 15:22:00.740392\n"
     ]
    }
   ],
   "source": [
    "verify_results(expected='100')"
   ]
  },
  {
   "cell_type": "markdown",
   "metadata": {},
   "source": [
    "#### Case 7\n",
    "**Status:** Passing  \n",
    "**Expected Result:** `5`"
   ]
  },
  {
   "cell_type": "code",
   "execution_count": 24,
   "metadata": {},
   "outputs": [],
   "source": [
    "# 7 - 2 = 5\n",
    "test_components = before_each_ripple_borrow_test()\n",
    "qc = test_components['qc']\n",
    "\n",
    "qc.x(n_reg[0])\n",
    "qc.x(n_reg[1])\n",
    "qc.x(n_reg[2])\n",
    "\n",
    "c_ripple_subtract(circuit=qc, min_reg=n_reg, control_bit=m_reg[True], scratch_reg=scratch_a, start_shifting_at=1)\n",
    "results = get_results_of_last_test()\n",
    "\n",
    "# qc.draw()"
   ]
  },
  {
   "cell_type": "code",
   "execution_count": 25,
   "metadata": {
    "scrolled": true
   },
   "outputs": [
    {
     "name": "stdout",
     "output_type": "stream",
     "text": [
      "PASSING - {} 2019-07-30 14:27:30.569891\n"
     ]
    }
   ],
   "source": [
    "verify_results(expected='101')"
   ]
  },
  {
   "cell_type": "markdown",
   "metadata": {},
   "source": [
    "#### Case 8\n",
    "**Status:** Failing - _Unexplained Failure...circuit looks good_   \n",
    "**Expected Result:** `7`"
   ]
  },
  {
   "cell_type": "code",
   "execution_count": 10,
   "metadata": {
    "scrolled": true
   },
   "outputs": [],
   "source": [
    "# NO-OP(7) = 7\n",
    "test_components = before_each_ripple_borrow_test()\n",
    "qc = test_components['qc']\n",
    "\n",
    "qc.x(n_reg[0])\n",
    "qc.x(n_reg[1])\n",
    "qc.x(n_reg[2])\n",
    "qc.barrier()\n",
    "ripple_carry_bits(circuit=qc, acc_reg=n_reg, control_bit=m_reg[False], scratch_reg=scratch_a, start_shifting_at=1)\n",
    "results = get_results_of_last_test()\n",
    "\n",
    "# qc.draw()"
   ]
  },
  {
   "cell_type": "code",
   "execution_count": 11,
   "metadata": {
    "scrolled": true
   },
   "outputs": [
    {
     "name": "stdout",
     "output_type": "stream",
     "text": [
      "PASSING -  2019-08-01 15:22:00.740392\n"
     ]
    }
   ],
   "source": [
    "verify_results(expected='111')"
   ]
  },
  {
   "cell_type": "code",
   "execution_count": 18,
   "metadata": {
    "scrolled": true
   },
   "outputs": [
    {
     "data": {
      "text/html": [
       "<pre style=\"word-wrap: normal;white-space: pre;line-height: 15px;\">          ┌───┐     ┌─┐           \n",
       "  n_0: |0>┤ X ├─────┤M├───────────\n",
       "          ├───┤     └╥┘   ┌───┐┌─┐\n",
       "  n_1: |0>┤ X ├──■───╫────┤ X ├┤M├\n",
       "          ├───┤  │   ║ ┌─┐└─┬─┘└╥┘\n",
       "  n_2: |0>┤ X ├──┼───╫─┤M├──┼───╫─\n",
       "          └───┘  │   ║ └╥┘  │   ║ \n",
       "  m_0: |0>───────┼───╫──╫───┼───╫─\n",
       "          ┌───┐  │   ║  ║   │   ║ \n",
       "  m_1: |0>┤ X ├──■───╫──╫───■───╫─\n",
       "          └───┘  │   ║  ║       ║ \n",
       "sca_0: |0>───────┼───╫──╫───────╫─\n",
       "               ┌─┴─┐ ║  ║       ║ \n",
       "sca_1: |0>─────┤ X ├─╫──╫───────╫─\n",
       "               └───┘ ║  ║       ║ \n",
       "sca_2: |0>───────────╫──╫───────╫─\n",
       "                     ║  ║       ║ \n",
       "   y_0: 0 ═══════════╩══╬═══════╬═\n",
       "                        ║       ║ \n",
       "   y_1: 0 ══════════════╬═══════╩═\n",
       "                        ║         \n",
       "   y_2: 0 ══════════════╩═════════\n",
       "                                  </pre>"
      ],
      "text/plain": [
       "<qiskit.visualization.text.TextDrawing at 0x7f3c10bac780>"
      ]
     },
     "execution_count": 18,
     "metadata": {},
     "output_type": "execute_result"
    }
   ],
   "source": [
    "# 7 + 2 = ?\n",
    "test_components = before_each_ripple_borrow_test()\n",
    "qc = test_components['qc']\n",
    "qc.x(n_reg[0])\n",
    "qc.x(n_reg[1])\n",
    "qc.x(n_reg[2])\n",
    "\n",
    "# c_ripple_subtract(circuit=qc, min_reg=n_reg, control_bit=m_reg[True], scratch_reg=scratch_a, start_shifting_at=2)\n",
    "ripple_carry_bits(circuit=qc, acc_reg=n_reg, control_bit=m_reg[True], scratch_reg=scratch_a, start_shifting_at=1)\n",
    "\n",
    "results = get_results_of_last_test()\n",
    "qc.draw()\n",
    "# print(results)"
   ]
  },
  {
   "cell_type": "code",
   "execution_count": null,
   "metadata": {},
   "outputs": [],
   "source": []
  },
  {
   "cell_type": "code",
   "execution_count": 12,
   "metadata": {},
   "outputs": [
    {
     "name": "stdout",
     "output_type": "stream",
     "text": [
      "{'111': 1024}\n"
     ]
    }
   ],
   "source": [
    "print(results)"
   ]
  },
  {
   "cell_type": "code",
   "execution_count": 7,
   "metadata": {},
   "outputs": [
    {
     "name": "stderr",
     "output_type": "stream",
     "text": [
      "No measurements in circuit \"circuit1\": count data will return all zeros.\n"
     ]
    },
    {
     "data": {
      "text/plain": [
       "dict_keys(['000'])"
      ]
     },
     "execution_count": 7,
     "metadata": {},
     "output_type": "execute_result"
    }
   ],
   "source": [
    "execute(qc, backend=backend, shots=1024).result().get_counts().keys()"
   ]
  },
  {
   "cell_type": "code",
   "execution_count": null,
   "metadata": {},
   "outputs": [],
   "source": []
  }
 ],
 "metadata": {
  "kernelspec": {
   "display_name": "Python 3",
   "language": "python",
   "name": "python3"
  },
  "language_info": {
   "codemirror_mode": {
    "name": "ipython",
    "version": 3
   },
   "file_extension": ".py",
   "mimetype": "text/x-python",
   "name": "python",
   "nbconvert_exporter": "python",
   "pygments_lexer": "ipython3",
   "version": "3.6.7"
  }
 },
 "nbformat": 4,
 "nbformat_minor": 2
}
