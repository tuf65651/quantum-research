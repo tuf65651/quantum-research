{
 "cells": [
  {
   "cell_type": "code",
   "execution_count": 8,
   "metadata": {},
   "outputs": [],
   "source": [
    "from qiskit import QuantumCircuit, QuantumRegister, ClassicalRegister, execute, Aer, IBMQ\n",
    "from qiskit.compiler import transpile, assemble\n",
    "from qiskit.tools.jupyter import *\n",
    "from qiskit.visualization import *"
   ]
  },
  {
   "cell_type": "code",
   "execution_count": 9,
   "metadata": {},
   "outputs": [],
   "source": [
    "backend = Aer.get_backend(\"qasm_simulator\")"
   ]
  },
  {
   "cell_type": "code",
   "execution_count": 10,
   "metadata": {},
   "outputs": [],
   "source": [
    "def ripple_carry_bits(circuit, control_bit, acc_reg, scratch_reg, start_shifting_at):\n",
    "    \"\"\"Continue a carry operation\n",
    "    This assumes that whatever simple op triggered the ripple has already occurred.\n",
    "    For example, if the ripple started with addition of 1 to the least significant bit,\n",
    "    manually flip and then call function.\n",
    "    \n",
    "    @param circuit: QuantumCircuit containing operands\n",
    "    @param control_bit: single bit controling whether op begins.\n",
    "    @param acc_reg: QuantumRegister containing integer to shift\n",
    "    @param scratch_reg: Quantum registered in initial |0..0> state used to store carry result of each simple addition.\n",
    "    @param start_shifting_at: index in acc_reg of bit to shift\n",
    "    \n",
    "    TESTING - Passed minimal test cases July 18 at 8:24am Pacific Time\n",
    "    \"\"\"\n",
    "    \n",
    "    circuit.ccx(control_bit, acc_reg[start_shifting_at], scratch_reg[start_shifting_at])\n",
    "    circuit.cx(control_bit, acc_reg[start_shifting_at])\n",
    "    \n",
    "    # After flipping target, state |0> means we should have carried... =>\n",
    "    # before flipping target, state |1> means we should carry.\n",
    "    \n",
    "    # Flip each bit, if it's 1, carry to the next bit, and flip it back.\n",
    "    for bit in range(start_shifting_at + 1, len(acc_reg) - 1):\n",
    "        circuit.ccx(acc_reg[bit], scratch_reg[bit - 1], scratch_reg[bit])\n",
    "        circuit.cx(scratch_reg[bit - 1], acc_reg[bit])"
   ]
  },
  {
   "cell_type": "code",
   "execution_count": null,
   "metadata": {},
   "outputs": [],
   "source": [
    "def c_ripple_subtract(circuit, control_bit, min_reg, scratch_reg, start_shifting_at):\n",
    "    \"\"\"Continue a subtract operation\n",
    "    \n",
    "    @param circuit: QuantumCircuit containing operands\n",
    "    @param control_bit: single bit controling whether op begins.\n",
    "    @param min_reg: QuantumRegister containing integer to shift\n",
    "    @param scratch_reg: Quantum registered in initial |0..0> state used to store carry result of each simple addition.\n",
    "    @param start_shifting_at: index in acc_reg of bit to shift\n",
    "    \n",
    "    TESTING - Passed minimal test cases July 18 at 8:24am Pacific Time\n",
    "    \"\"\"\n",
    "    \n",
    "    circuit.ccx(control_bit, acc_reg[start_shifting_at], scratch_reg[start_shifting_at])\n",
    "    circuit.cx(control_bit, acc_reg[start_shifting_at])\n",
    "    \n",
    "    # After flipping target, state |0> means we should have carried... =>\n",
    "    # before flipping target, state |1> means we should carry.\n",
    "    \n",
    "    # Flip each bit, if it's 1, carry to the next bit, and flip it back.\n",
    "    for bit in range(start_shifting_at + 1, len(acc_reg) - 1):\n",
    "        circuit.ccx(acc_reg[bit], scratch_reg[bit - 1], scratch_reg[bit])\n",
    "        circuit.cx(scratch_reg[bit - 1], acc_reg[bit])"
   ]
  },
  {
   "cell_type": "code",
   "execution_count": 4,
   "metadata": {},
   "outputs": [],
   "source": [
    "def add_to_b_in_place(circuit, a_reg, b_reg, scratch_reg):\n",
    "    \"\"\"|a > | b > => |a > |a+b >\n",
    "    \n",
    "    TESTING - Passed minimal test cases July 18 at 8:24am Pacific Time\n",
    "    \"\"\"\n",
    "        \n",
    "    for bit in range(len(a_reg)):\n",
    "        circuit.reset(scratch_reg)\n",
    "        ripple_carry_bits(\n",
    "            circuit=circuit,\n",
    "            control_bit=a_reg[bit],\n",
    "            acc_reg=b_reg,\n",
    "            scratch_reg=scratch_reg,\n",
    "            start_shifting_at=bit)"
   ]
  },
  {
   "cell_type": "code",
   "execution_count": null,
   "metadata": {},
   "outputs": [],
   "source": [
    "def sub_b_from_a_in_place(circuit, minnd_reg, subtrhnd_reg, scratch_reg):\n",
    "    \"\"\"Subtract subtrahend integer b from minuend integer a in register a\n",
    "    \n",
    "    @param circuit: QuantumCircuit containing other parameters\n",
    "    @param minnd_reg: QuantumRegister transformed from minuend to difference\n",
    "    @param subtrhnd_reg: QuantumRegister containing subtrahend\n",
    "    @param scratch_reg: QuantumRegister in initial |0...0> state used as borrow flags\n",
    "    for each primitive op (final bit indicates negative difference)\n",
    "    \"\"\"\n",
    "    \n",
    "    "
   ]
  },
  {
   "cell_type": "code",
   "execution_count": 5,
   "metadata": {},
   "outputs": [],
   "source": [
    "def bit_shift_left(circuit, register, places=1):\n",
    "    \"\"\"\n",
    "    TESTING - Passed minimal test cases July 21 at 2:30 Pacific Time\n",
    "    \"\"\"\n",
    "    # zero out all trailing bits\n",
    "    num_bits = len(register)\n",
    "    for rollover in range(num_bits - places, num_bits):\n",
    "        circuit.reset(register[rollover])\n",
    "        \n",
    "    # swap every bit 'places' forward, with last bits wrapping around to beginning\n",
    "    for bit in range(num_bits - 1,places-1,-1):\n",
    "        circuit.swap(register[bit], register[bit - places])"
   ]
  },
  {
   "cell_type": "code",
   "execution_count": 6,
   "metadata": {},
   "outputs": [],
   "source": [
    "def c_copy_register(circuit, control_bit, origin, dest):\n",
    "    \n",
    "    \"\"\"sets contents of dest with contents of origin if control_bit\n",
    "    WARNING - perform a reset before use\n",
    "    \"\"\"\n",
    "    circuit.reset(dest)\n",
    "    for bit in range(len(dest)):\n",
    "        circuit.ccx(control_bit, origin[bit], dest[bit])"
   ]
  },
  {
   "cell_type": "code",
   "execution_count": 7,
   "metadata": {},
   "outputs": [],
   "source": [
    "def multiply(circuit, multiplicand, multiplier, scratch_zero_check, scratch_carrier, prod_accumulator):\n",
    "    \n",
    "    c_copy_register(circuit=circuit, control_bit=multiplier[0], origin=multiplicand, dest=prod_accumulator)\n",
    "    \n",
    "    for bit in range(1, len(multiplier)):\n",
    "        # free up scratch space\n",
    "        circuit.reset(scratch_carrier)\n",
    "        circuit.reset(scratch_zero_check)\n",
    "        \n",
    "        # shift multiplicand one space left, to match magnitude of current multiplier bit\n",
    "        bit_shift_left(circuit=circuit, register=multiplicand, places=1)\n",
    "        \n",
    "        # copy multiplicand into scratch register only if multiplicand bit, else keep scratch register |0>\n",
    "        c_copy_register(circuit=circuit, control_bit=multiplier[bit], origin=multiplicand, dest=scratch_zero_check)\n",
    "        \n",
    "        # add that scratch term (shifted multiplicand or zero) to accumulated product\n",
    "        add_to_b_in_place(circuit=circuit, a_reg=scratch_zero_check, b_reg=prod_accumulator, scratch_reg=scratch_carrier)"
   ]
  },
  {
   "cell_type": "code",
   "execution_count": null,
   "metadata": {},
   "outputs": [],
   "source": []
  }
 ],
 "metadata": {
  "kernelspec": {
   "display_name": "Python 3",
   "language": "python",
   "name": "python3"
  },
  "language_info": {
   "codemirror_mode": {
    "name": "ipython",
    "version": 3
   },
   "file_extension": ".py",
   "mimetype": "text/x-python",
   "name": "python",
   "nbconvert_exporter": "python",
   "pygments_lexer": "ipython3",
   "version": "3.6.7"
  }
 },
 "nbformat": 4,
 "nbformat_minor": 2
}
